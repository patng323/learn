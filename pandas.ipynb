{
 "cells": [
  {
   "cell_type": "code",
   "execution_count": 1,
   "metadata": {
    "collapsed": true
   },
   "outputs": [],
   "source": [
    "# pandas\n",
    "import pandas as pd\n",
    "from pandas import Series,DataFrame\n",
    "\n",
    "# numpy, matplotlib, seaborn\n",
    "import numpy as np\n",
    "import matplotlib.pyplot as plt\n",
    "%matplotlib inline"
   ]
  },
  {
   "cell_type": "markdown",
   "metadata": {},
   "source": [
    "## Slicing ##"
   ]
  },
  {
   "cell_type": "code",
   "execution_count": 41,
   "metadata": {
    "collapsed": false
   },
   "outputs": [
    {
     "name": "stdout",
     "output_type": "stream",
     "text": [
      "          A         B         C         D\n",
      "a -1.609150  0.851905 -0.958336  2.540210\n",
      "b  0.024007 -0.075003 -1.383130  1.282551\n",
      "c  1.595176  0.659859  0.395441  1.989611\n",
      "d -0.420154 -1.537966 -0.411965 -0.052758\n",
      "e -0.364205 -0.261687  0.303127 -1.067625\n",
      "f -0.004073 -1.172976 -1.013493  0.289787\n"
     ]
    }
   ],
   "source": [
    "df = pd.DataFrame(np.random.randn(6,4), index=list('abcdef'), columns=list('ABCD'))\n",
    "print df"
   ]
  },
  {
   "cell_type": "code",
   "execution_count": 42,
   "metadata": {
    "collapsed": false
   },
   "outputs": [
    {
     "name": "stdout",
     "output_type": "stream",
     "text": [
      "          A         B         C         D\n",
      "a -1.609150  0.851905 -0.958336  2.540210\n",
      "b  0.024007 -0.075003 -1.383130  1.282551\n",
      "\n",
      "          A         B        C         D\n",
      "b  0.024007 -0.075003 -1.38313  1.282551\n",
      "\n",
      "A    0.024007\n",
      "B   -0.075003\n",
      "C   -1.383130\n",
      "D    1.282551\n",
      "Name: b, dtype: float64\n",
      "<class 'pandas.core.series.Series'>\n",
      "0.0240068140539\n",
      "0.0240068140539\n"
     ]
    }
   ],
   "source": [
    "print df.ix[0:2] # Row 0 to 1\n",
    "print\n",
    "print df.ix[1:2] # Row 1\n",
    "print\n",
    "s = df.ix[1] # Row 1 as a Series\n",
    "print s\n",
    "print type(s)\n",
    "print s[0]\n",
    "print s['A']"
   ]
  },
  {
   "cell_type": "code",
   "execution_count": 43,
   "metadata": {
    "collapsed": false
   },
   "outputs": [
    {
     "name": "stdout",
     "output_type": "stream",
     "text": [
      "a   -1.609150\n",
      "b    0.024007\n",
      "c    1.595176\n",
      "d   -0.420154\n",
      "e   -0.364205\n",
      "f   -0.004073\n",
      "Name: A, dtype: float64\n",
      "\n",
      "          A         C\n",
      "a -1.609150 -0.958336\n",
      "b  0.024007 -1.383130\n",
      "c  1.595176  0.395441\n",
      "d -0.420154 -0.411965\n",
      "e -0.364205  0.303127\n",
      "f -0.004073 -1.013493\n",
      "\n",
      "          B         C\n",
      "a  0.851905 -0.958336\n",
      "b -0.075003 -1.383130\n",
      "c  0.659859  0.395441\n",
      "d -1.537966 -0.411965\n",
      "e -0.261687  0.303127\n",
      "f -1.172976 -1.013493\n",
      "\n"
     ]
    }
   ],
   "source": [
    "print df.ix[:,'A'] # Column 'A'\n",
    "print\n",
    "print df.ix[:, ['A', 'C']] # Columns A and C\n",
    "print\n",
    "print df.ix[:, range(1,3)] # Columns 1 to 2\n",
    "print\n",
    "\n",
    "# Get the name ('index') of a series (iloc[0] will return a series; name is the value of the index in the original df row)\n",
    "print d.iloc[0].name\n"
   ]
  },
  {
   "cell_type": "markdown",
   "metadata": {},
   "source": [
    "## Selection ##"
   ]
  },
  {
   "cell_type": "code",
   "execution_count": 44,
   "metadata": {
    "collapsed": false
   },
   "outputs": [
    {
     "name": "stdout",
     "output_type": "stream",
     "text": [
      "True for rows where 'A' > 0; False otherwise\n",
      "a    False\n",
      "b     True\n",
      "c     True\n",
      "d    False\n",
      "e    False\n",
      "f    False\n",
      "Name: A, dtype: bool\n",
      "\n",
      "Rows where 'A' > 0\n",
      "          A         B         C         D\n",
      "b  0.024007 -0.075003 -1.383130  1.282551\n",
      "c  1.595176  0.659859  0.395441  1.989611\n",
      "\n",
      "In rows where A > 0, set B to 999\n",
      "          A          B         C         D\n",
      "a -1.609150   0.851905 -0.958336  2.540210\n",
      "b  0.024007  99.000000 -1.383130  1.282551\n",
      "c  1.595176  99.000000  0.395441  1.989611\n",
      "d -0.420154  -1.537966 -0.411965 -0.052758\n",
      "e -0.364205  -0.261687  0.303127 -1.067625\n",
      "f -0.004073  -1.172976 -1.013493  0.289787\n"
     ]
    }
   ],
   "source": [
    "df2 = df.copy()\n",
    "\n",
    "print \"True for rows where 'A' > 0; False otherwise\"\n",
    "rows = df2['A'] > 0\n",
    "print rows\n",
    "print\n",
    "\n",
    "print \"Rows where 'A' > 0\"\n",
    "print df2.ix[rows]\n",
    "print\n",
    "\n",
    "print \"In rows where A > 0, set B to 999\"\n",
    "df2.ix[rows, 'B'] = 99\n",
    "print df2"
   ]
  },
  {
   "cell_type": "markdown",
   "metadata": {},
   "source": [
    "## Functions on values ##"
   ]
  },
  {
   "cell_type": "code",
   "execution_count": 45,
   "metadata": {
    "collapsed": false
   },
   "outputs": [
    {
     "name": "stdout",
     "output_type": "stream",
     "text": [
      "          A         B         C         D\n",
      "a -1.609150  0.851905 -0.958336  2.540210\n",
      "b  0.024007 -0.075003 -1.383130  1.282551\n",
      "c  1.595176  0.659859  0.395441  1.989611\n",
      "d -0.420154 -1.537966 -0.411965 -0.052758\n",
      "e -0.364205 -0.261687  0.303127 -1.067625\n",
      "f -0.004073 -1.172976 -1.013493  0.289787\n",
      "\n",
      "a    -ve\n",
      "b    +ve\n",
      "c    +ve\n",
      "d    -ve\n",
      "e    -ve\n",
      "f    -ve\n",
      "Name: A, dtype: object\n",
      "\n",
      "          A         B         C         D A_sign\n",
      "a -1.609150  0.851905 -0.958336  2.540210    -ve\n",
      "b  0.024007 -0.075003 -1.383130  1.282551    +ve\n",
      "c  1.595176  0.659859  0.395441  1.989611    +ve\n",
      "d -0.420154 -1.537966 -0.411965 -0.052758    -ve\n",
      "e -0.364205 -0.261687  0.303127 -1.067625    -ve\n",
      "f -0.004073 -1.172976 -1.013493  0.289787    -ve\n"
     ]
    }
   ],
   "source": [
    "# Apply a function to a column\n",
    "print df\n",
    "print\n",
    "print df.ix[:,'A'].map(lambda x: '+ve' if x >= 0 else '-ve')\n",
    "df['A_sign'] = df.ix[:,'A'].map(lambda x: '+ve' if x >= 0 else '-ve')\n",
    "print\n",
    "print df"
   ]
  },
  {
   "cell_type": "code",
   "execution_count": 47,
   "metadata": {
    "collapsed": false
   },
   "outputs": [],
   "source": [
    "# Drop a column\n",
    "#df = df.drop(['A_sign'], axis = 1)\n",
    "#print df"
   ]
  },
  {
   "cell_type": "markdown",
   "metadata": {},
   "source": [
    "## Series ##"
   ]
  },
  {
   "cell_type": "code",
   "execution_count": 30,
   "metadata": {
    "collapsed": false
   },
   "outputs": [
    {
     "name": "stdout",
     "output_type": "stream",
     "text": [
      "0    10\n",
      "1    20\n",
      "2    30\n",
      "dtype: int64\n",
      "1    10\n",
      "2    20\n",
      "3    30\n",
      "1    40\n",
      "2    50\n",
      "3    60\n",
      "dtype: int64\n"
     ]
    }
   ],
   "source": [
    "lst = [1, 2, 3, 1, 2, 3]\n",
    "s = pd.Series([10,20,30])\n",
    "print s\n",
    "print pd.Series([10,20,30,40,50,60], index=lst)"
   ]
  },
  {
   "cell_type": "code",
   "execution_count": null,
   "metadata": {
    "collapsed": true
   },
   "outputs": [],
   "source": [
    "# Find elements in a Series\n",
    "storeOpenDays[storeOpenDays != np.datetime64('2013-01-02')]"
   ]
  },
  {
   "cell_type": "markdown",
   "metadata": {},
   "source": [
    "### Merge a Series into a Dataframe ###"
   ]
  },
  {
   "cell_type": "code",
   "execution_count": 59,
   "metadata": {
    "collapsed": false
   },
   "outputs": [
    {
     "name": "stdout",
     "output_type": "stream",
     "text": [
      "0    a\n",
      "1    b\n",
      "2    c\n",
      "dtype: object\n",
      "          X         Y\n",
      "0 -0.158910 -0.172421\n",
      "1 -0.220457 -2.035427\n",
      "2 -0.619202 -0.413240\n",
      "  Name\n",
      "0    a\n",
      "1    b\n",
      "2    c\n",
      "          X         Y Name\n",
      "0 -0.158910 -0.172421    a\n",
      "1 -0.220457 -2.035427    b\n",
      "2 -0.619202 -0.413240    c\n"
     ]
    }
   ],
   "source": [
    "i = range(0,3)\n",
    "s = pd.Series(['a','b', 'c'], index=i)\n",
    "print s\n",
    "\n",
    "d = pd.DataFrame(np.random.randn(3,2), index=i, columns=list('XY'))\n",
    "print d\n",
    "\n",
    "d1 = pd.DataFrame(s, columns=['Name'])\n",
    "print d1\n",
    "\n",
    "dm = pd.merge(d, d1, left_index=True, right_index=True)\n",
    "print dm\n"
   ]
  },
  {
   "cell_type": "markdown",
   "metadata": {},
   "source": [
    "## Misc. ##"
   ]
  },
  {
   "cell_type": "code",
   "execution_count": 48,
   "metadata": {
    "collapsed": false
   },
   "outputs": [
    {
     "name": "stdout",
     "output_type": "stream",
     "text": [
      "          A         B         C         D       Time\n",
      "a -1.609150  0.851905 -0.958336  2.540210 2015-12-11\n",
      "b  0.024007 -0.075003 -1.383130  1.282551 2015-12-12\n",
      "c  1.595176  0.659859  0.395441  1.989611 2015-12-13\n",
      "d -0.420154 -1.537966 -0.411965 -0.052758 2015-12-14\n",
      "e -0.364205 -0.261687  0.303127 -1.067625 2015-12-15\n",
      "f -0.004073 -1.172976 -1.013493  0.289787 2015-12-16\n",
      "\n",
      "          A         B         C         D       Time  Day\n",
      "a -1.609150  0.851905 -0.958336  2.540210 2015-12-11   11\n",
      "b  0.024007 -0.075003 -1.383130  1.282551 2015-12-12   12\n",
      "c  1.595176  0.659859  0.395441  1.989611 2015-12-13   13\n",
      "d -0.420154 -1.537966 -0.411965 -0.052758 2015-12-14   14\n",
      "e -0.364205 -0.261687  0.303127 -1.067625 2015-12-15   15\n",
      "f -0.004073 -1.172976 -1.013493  0.289787 2015-12-16   16\n"
     ]
    }
   ],
   "source": [
    "# .dt accessor\n",
    "# Series has an accessor to succinctly return datetime like properties for the values of the Series, \n",
    "# if it is a datetime/period like Series. This will return a Series, indexed like the existing Series.\n",
    "\n",
    "df['Time'] = pd.date_range('20151211', periods=len(df))\n",
    "print df\n",
    "print\n",
    "\n",
    "df['Day'] = df['Time'].dt.day\n",
    "print df"
   ]
  },
  {
   "cell_type": "code",
   "execution_count": null,
   "metadata": {
    "collapsed": true
   },
   "outputs": [],
   "source": [
    "# Add a blank or empty column\n",
    "df[\"X\"] = np.nan\n",
    "df[\"Y\"] = \"\""
   ]
  },
  {
   "cell_type": "code",
   "execution_count": null,
   "metadata": {
    "collapsed": true
   },
   "outputs": [],
   "source": [
    "# Fill NA by taking the values from another column\n",
    "# http://stackoverflow.com/questions/30265723/python-create-a-new-column-from-existing-columns\n",
    "df['z'] = df['y'].fillna(df['x'])"
   ]
  },
  {
   "cell_type": "code",
   "execution_count": null,
   "metadata": {
    "collapsed": true
   },
   "outputs": [],
   "source": [
    "# Apply a function to each row of a df\n",
    "d.apply(lambda row: min([row['A'], row['B']])-row['C'], axis=1)"
   ]
  },
  {
   "cell_type": "code",
   "execution_count": 49,
   "metadata": {
    "collapsed": false
   },
   "outputs": [
    {
     "name": "stdout",
     "output_type": "stream",
     "text": [
      "A      float64\n",
      "B      float64\n",
      "C      float64\n",
      "D      float64\n",
      "Day      int64\n",
      "dtype: object\n",
      "DatetimeIndex(['2015-12-11', '2015-12-12', '2015-12-13', '2015-12-14',\n",
      "               '2015-12-15', '2015-12-16'],\n",
      "              dtype='datetime64[ns]', name=u'Time', freq=None)\n"
     ]
    }
   ],
   "source": [
    "# Switch the index to a differet column\n",
    "df = df.set_index('Time')\n",
    "print df.dtypes\n",
    "print df.index"
   ]
  },
  {
   "cell_type": "code",
   "execution_count": 51,
   "metadata": {
    "collapsed": false
   },
   "outputs": [
    {
     "name": "stdout",
     "output_type": "stream",
     "text": [
      "0.83029586912\n",
      "                   A         B         C         D   Day\n",
      "Time                                                    \n",
      "2015-12-31 -0.129733 -0.255978 -0.511393  0.830296  13.5\n"
     ]
    }
   ],
   "source": [
    "print df['D'].mean()\n",
    "print df.resample('M', how='mean')"
   ]
  },
  {
   "cell_type": "code",
   "execution_count": 37,
   "metadata": {
    "collapsed": false
   },
   "outputs": [
    {
     "data": {
      "text/html": [
       "<div>\n",
       "<table border=\"1\" class=\"dataframe\">\n",
       "  <thead>\n",
       "    <tr style=\"text-align: right;\">\n",
       "      <th></th>\n",
       "      <th>A</th>\n",
       "      <th>B</th>\n",
       "      <th>C</th>\n",
       "    </tr>\n",
       "  </thead>\n",
       "  <tbody>\n",
       "    <tr>\n",
       "      <th>0</th>\n",
       "      <td>Apple</td>\n",
       "      <td>3</td>\n",
       "      <td>98</td>\n",
       "    </tr>\n",
       "    <tr>\n",
       "      <th>1</th>\n",
       "      <td>Apple</td>\n",
       "      <td>52</td>\n",
       "      <td>99</td>\n",
       "    </tr>\n",
       "    <tr>\n",
       "      <th>2</th>\n",
       "      <td>Apple</td>\n",
       "      <td>58</td>\n",
       "      <td>61</td>\n",
       "    </tr>\n",
       "    <tr>\n",
       "      <th>3</th>\n",
       "      <td>Apple</td>\n",
       "      <td>3</td>\n",
       "      <td>93</td>\n",
       "    </tr>\n",
       "    <tr>\n",
       "      <th>4</th>\n",
       "      <td>Apple</td>\n",
       "      <td>31</td>\n",
       "      <td>99</td>\n",
       "    </tr>\n",
       "    <tr>\n",
       "      <th>5</th>\n",
       "      <td>Apple</td>\n",
       "      <td>53</td>\n",
       "      <td>51</td>\n",
       "    </tr>\n",
       "    <tr>\n",
       "      <th>6</th>\n",
       "      <td>Apple</td>\n",
       "      <td>2</td>\n",
       "      <td>9</td>\n",
       "    </tr>\n",
       "    <tr>\n",
       "      <th>7</th>\n",
       "      <td>Orange</td>\n",
       "      <td>25</td>\n",
       "      <td>78</td>\n",
       "    </tr>\n",
       "    <tr>\n",
       "      <th>8</th>\n",
       "      <td>Lemon</td>\n",
       "      <td>41</td>\n",
       "      <td>34</td>\n",
       "    </tr>\n",
       "    <tr>\n",
       "      <th>9</th>\n",
       "      <td>None</td>\n",
       "      <td>95</td>\n",
       "      <td>27</td>\n",
       "    </tr>\n",
       "  </tbody>\n",
       "</table>\n",
       "</div>"
      ],
      "text/plain": [
       "        A   B   C\n",
       "0   Apple   3  98\n",
       "1   Apple  52  99\n",
       "2   Apple  58  61\n",
       "3   Apple   3  93\n",
       "4   Apple  31  99\n",
       "5   Apple  53  51\n",
       "6   Apple   2   9\n",
       "7  Orange  25  78\n",
       "8   Lemon  41  34\n",
       "9    None  95  27"
      ]
     },
     "execution_count": 37,
     "metadata": {},
     "output_type": "execute_result"
    }
   ],
   "source": [
    "# Create a dataframe by specifying the columns\n",
    "df2 = pd.DataFrame({'A': {0: \"Apple\", 1: \"Apple\", 2: \"Apple\", 3: \"Apple\", 4: \"Apple\", 5: \"Apple\", 6: \"Apple\", 7: \"Orange\", 8: \"Lemon\", 9: None},\n",
    "                   'B': {0: 3, 1: 52, 2: 58, 3: 3, 4: 31, 5: 53, 6: 2, 7: 25, 8: 41, 9: 95},\n",
    "                   'C': {0: 98, 1: 99, 2: 61, 3: 93, 4: 99, 5: 51, 6: 9, 7: 78, 8: 34, 9: 27}})\n",
    "\n",
    "df2"
   ]
  },
  {
   "cell_type": "code",
   "execution_count": 38,
   "metadata": {
    "collapsed": false
   },
   "outputs": [
    {
     "data": {
      "text/plain": [
       "A\n",
       "Apple     0.777778\n",
       "Lemon     0.111111\n",
       "Orange    0.111111\n",
       "dtype: float64"
      ]
     },
     "execution_count": 38,
     "metadata": {},
     "output_type": "execute_result"
    }
   ],
   "source": [
    "df.groupby('A').size().divide(sum(df['A'].notnull()))"
   ]
  },
  {
   "cell_type": "code",
   "execution_count": null,
   "metadata": {
    "collapsed": true
   },
   "outputs": [],
   "source": [
    "# Get all the rows where a column's value is in a list\n",
    "compDist_df = train_df[train_df['Store'].isin([3,6,10])]"
   ]
  },
  {
   "cell_type": "code",
   "execution_count": null,
   "metadata": {
    "collapsed": true
   },
   "outputs": [],
   "source": [
    "# Plot vertical lines on datetime series\n",
    "# http://stackoverflow.com/questions/21488085/pandas-graphing-a-timeseries-with-vertical-lines-at-selected-dates\n",
    "ax = cum_edits.plot()\n",
    "ymin, ymax = ax.get_ylim()\n",
    "ax.vlines(x=dates, ymin=ymin, ymax=ymax-1, color='r')"
   ]
  },
  {
   "cell_type": "code",
   "execution_count": null,
   "metadata": {
    "collapsed": true
   },
   "outputs": [],
   "source": [
    "# Rename one column\n",
    "df=df.rename(columns = {'two':'new_name'})"
   ]
  },
  {
   "cell_type": "code",
   "execution_count": null,
   "metadata": {
    "collapsed": true
   },
   "outputs": [],
   "source": [
    "# After groupby, you can access individual group\n",
    "grouped = d.groupby('Col1').get_group('Male')\n",
    "group = grouped.get_group('Male')"
   ]
  },
  {
   "cell_type": "code",
   "execution_count": null,
   "metadata": {
    "collapsed": true
   },
   "outputs": [],
   "source": [
    "# Can also iterate through the groups\n",
    "for name, group in grouped:"
   ]
  },
  {
   "cell_type": "markdown",
   "metadata": {},
   "source": [
    "## MultiIndex ##"
   ]
  },
  {
   "cell_type": "code",
   "execution_count": null,
   "metadata": {
    "collapsed": true
   },
   "outputs": [],
   "source": [
    "# Check if an index is a multiIndex\n",
    "print monthly_by_StoreType.index"
   ]
  },
  {
   "cell_type": "code",
   "execution_count": null,
   "metadata": {
    "collapsed": true
   },
   "outputs": [],
   "source": [
    "# To access a multi-index data easily after a groupby, we should convert it into a dataframe first\n",
    "d = pd.DataFrame(train_openday_earlier_df.groupby(['Store', 'AfterCompOpened'])['Sales'].mean())"
   ]
  },
  {
   "cell_type": "code",
   "execution_count": null,
   "metadata": {
    "collapsed": true
   },
   "outputs": [],
   "source": [
    "# To slice the index of a multi-index df, it's much easier to use IndexSlicer\n",
    "# Here d2's index has two levels (Storeid, IsOpen)\n",
    "idx = pd.IndexSlice\n",
    "d2.loc[idx[:,True],:] # Get all the records where 2nd level (IsOpen) is True"
   ]
  }
 ],
 "metadata": {
  "kernelspec": {
   "display_name": "Python 2",
   "language": "python",
   "name": "python2"
  },
  "language_info": {
   "codemirror_mode": {
    "name": "ipython",
    "version": 2
   },
   "file_extension": ".py",
   "mimetype": "text/x-python",
   "name": "python",
   "nbconvert_exporter": "python",
   "pygments_lexer": "ipython2",
   "version": "2.7.10"
  }
 },
 "nbformat": 4,
 "nbformat_minor": 0
}
