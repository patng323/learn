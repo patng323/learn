{
 "cells": [
  {
   "cell_type": "markdown",
   "metadata": {},
   "source": [
    "## Simulate 1000 users\n",
    "+ A user pick a number between 1 and 100\n",
    "+ If the number <= 3, \"clicks\"!  \n",
    "  \n",
    "  \n",
    "+ Repeat the above 1000 times"
   ]
  },
  {
   "cell_type": "code",
   "execution_count": 168,
   "metadata": {
    "collapsed": false
   },
   "outputs": [
    {
     "name": "stdout",
     "output_type": "stream",
     "text": [
      "Out of 1000 users, we got 35 clicks\n"
     ]
    }
   ],
   "source": [
    "# Pick a number between 1 and 100.  Do it a thousand times.\n",
    "totalRes <- sample(c(1:100), 1000, replace=TRUE)\n",
    "clicks <- sum(totalRes <= 3)\n",
    "cat(sprintf(\"Out of 1000 users, we got %d clicks\\n\", clicks))"
   ]
  },
  {
   "cell_type": "markdown",
   "metadata": {},
   "source": [
    "## Do that simulation for A and B\n",
    "## And measure the difference in %"
   ]
  },
  {
   "cell_type": "code",
   "execution_count": null,
   "metadata": {
    "collapsed": true
   },
   "outputs": [],
   "source": [
    "oneABTest <- function(size, fullResult = FALSE) {\n",
    "    # Simulate group A\n",
    "    totalRes.A <- sample(c(1:100), size, replace=TRUE)\n",
    "    clicks.A <- sum(totalRes.A <= 3)\n",
    "\n",
    "    # Simulate group B\n",
    "    totalRes.B <- sample(c(1:100), size, replace=TRUE)\n",
    "    clicks.B <- sum(totalRes.B <= 3)\n",
    "\n",
    "    diff <- (clicks.B - clicks.A) / clicks.A\n",
    "    \n",
    "    if (fullResult) {\n",
    "        result <- list(\"A\" = clicks.A, \"B\" = clicks.B, \"diff\" = diff)\n",
    "        return (result)\n",
    "    }\n",
    "    else {\n",
    "        return (diff)\n",
    "    }\n",
    "}"
   ]
  },
  {
   "cell_type": "code",
   "execution_count": 170,
   "metadata": {
    "collapsed": false
   },
   "outputs": [
    {
     "name": "stdout",
     "output_type": "stream",
     "text": [
      "Number of clicks from A group: 22\n",
      "Number of clicks from B group: 28\n",
      "B is better than A by 27.27%\n"
     ]
    }
   ],
   "source": [
    "# Do one AB test.  No. of users in each group = 1000\n",
    "result <- oneABTest(1000, fullResult=TRUE)\n",
    "cat(sprintf(\"Number of clicks from A group: %d\\n\", result$A))\n",
    "cat(sprintf(\"Number of clicks from B group: %d\\n\", result$B))\n",
    "cat(sprintf(\"B is better than A by %.2f%%\\n\", result$diff*100))"
   ]
  },
  {
   "cell_type": "markdown",
   "metadata": {},
   "source": [
    "## Do the same A/B Test many times!"
   ]
  },
  {
   "cell_type": "code",
   "execution_count": 180,
   "metadata": {
    "collapsed": true
   },
   "outputs": [],
   "source": [
    "# Do the A/B test 10,000 times!\n",
    "results <- replicate(10000, oneABTest(1000))"
   ]
  },
  {
   "cell_type": "code",
   "execution_count": 181,
   "metadata": {
    "collapsed": false
   },
   "outputs": [
    {
     "name": "stdout",
     "output_type": "stream",
     "text": [
      "You will see an 'at least ten percent improvement' 35% of the time!\n"
     ]
    }
   ],
   "source": [
    "# In the A/B test done in the presentation, we saw:\n",
    "# A:300, B:330\n",
    "# So B is better than A by 10% (0.1)\n",
    "atLeast10pt <- mean(results >= 0.1) \n",
    "cat(sprintf(\"You will see an 'at least ten percent improvement' %.f%% of the time!\\n\", 100*atLeast10pt))"
   ]
  },
  {
   "cell_type": "markdown",
   "metadata": {},
   "source": [
    "## Repeat again, but increase the number of users from 1000 to 10,000"
   ]
  },
  {
   "cell_type": "code",
   "execution_count": 173,
   "metadata": {
    "collapsed": true
   },
   "outputs": [],
   "source": [
    "results <- replicate(10000, oneABTest(10000))"
   ]
  },
  {
   "cell_type": "code",
   "execution_count": 174,
   "metadata": {
    "collapsed": false
   },
   "outputs": [
    {
     "name": "stdout",
     "output_type": "stream",
     "text": [
      "You will see at least ten percents improvement 12% of the time!\n"
     ]
    }
   ],
   "source": [
    "atLeast10pt <- mean(results >= 0.1)\n",
    "cat(sprintf(\"You will see at least ten percents improvement %.f%% of the time!\\n\", 100*atLeast10pt))"
   ]
  },
  {
   "cell_type": "code",
   "execution_count": null,
   "metadata": {
    "collapsed": true
   },
   "outputs": [],
   "source": []
  },
  {
   "cell_type": "code",
   "execution_count": null,
   "metadata": {
    "collapsed": true
   },
   "outputs": [],
   "source": []
  },
  {
   "cell_type": "code",
   "execution_count": null,
   "metadata": {
    "collapsed": true
   },
   "outputs": [],
   "source": []
  },
  {
   "cell_type": "code",
   "execution_count": null,
   "metadata": {
    "collapsed": true
   },
   "outputs": [],
   "source": []
  },
  {
   "cell_type": "code",
   "execution_count": null,
   "metadata": {
    "collapsed": true
   },
   "outputs": [],
   "source": []
  },
  {
   "cell_type": "markdown",
   "metadata": {},
   "source": [
    "## Some mathematical work below...."
   ]
  },
  {
   "cell_type": "code",
   "execution_count": null,
   "metadata": {
    "collapsed": true
   },
   "outputs": [],
   "source": [
    "# Why 36% above?\n",
    "\n",
    "# X and Y are two independent random variables.\n",
    "# Both follows the Bernoulli distribution where p = 0.03\n",
    "p <- 0.03\n",
    "n <- 1000\n",
    "\n",
    "# Var(X) = p(1-p)/n where n is the number of samples.\n",
    "var.X <- n*(p * (1-p))\n",
    "var.Y <- n*(p * (1-p))"
   ]
  },
  {
   "cell_type": "code",
   "execution_count": null,
   "metadata": {
    "collapsed": false
   },
   "outputs": [],
   "source": [
    "# Define D = X - Y\n",
    "\n",
    "# E[D] = E[X] - E[Y] = 0\n",
    "\n",
    "# Because X and Y are independent, \n",
    "# Var(D) = Var(X-Y) = Var(X) + Var(Y)\n",
    "\n",
    "var.D <- var.X + var.Y\n",
    "sd.D <- sqrt(var.D)\n",
    "\n",
    "# Again, what is D?\n",
    "# In X, suppose we flip the coin many times and on average we get 0.03 heads.\n",
    "# In Y, suppose we flip the coin many times and on average we get 0.033 heads.\n",
    "# That's a 10% increase, and D = 0.003 in here.\n",
    "\n",
    "# Since D ~ N(0, se.D), let's find the probability of getting 0.003 or more\n",
    "pnorm(0.003, mean = 0, sd = sd.D, lower.tail=FALSE)\n",
    "\n",
    "pnorm(0.003, mean = 0, sd = 2*n*p*(1-p), lower.tail=FALSE)"
   ]
  },
  {
   "cell_type": "code",
   "execution_count": null,
   "metadata": {
    "collapsed": false
   },
   "outputs": [],
   "source": [
    "help(pbinom)"
   ]
  },
  {
   "cell_type": "code",
   "execution_count": null,
   "metadata": {
    "collapsed": true
   },
   "outputs": [],
   "source": []
  }
 ],
 "metadata": {
  "kernelspec": {
   "display_name": "R",
   "language": "R",
   "name": "ir"
  },
  "language_info": {
   "codemirror_mode": "r",
   "file_extension": ".r",
   "mimetype": "text/x-r-source",
   "name": "R",
   "pygments_lexer": "r",
   "version": "3.2.3"
  }
 },
 "nbformat": 4,
 "nbformat_minor": 0
}
