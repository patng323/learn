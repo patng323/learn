{
 "cells": [
  {
   "cell_type": "markdown",
   "metadata": {},
   "source": [
    "## Notes on Linear Regression"
   ]
  },
  {
   "cell_type": "code",
   "execution_count": 22,
   "metadata": {
    "collapsed": true
   },
   "outputs": [],
   "source": [
    "female <- c(rep(0,10), rep(1,10))\n",
    "age <- c(rep(15,5),rep(20,5),rep(15,2),rep(20,8))\n",
    "\n",
    "# Within male:\n",
    "# Holding age constant at 15, y=100\n",
    "# Holding age constant at 20, y=150\n",
    "# Mean(100, 150) = 125.  So 125 is the baseline (when female = 0).\n",
    "#\n",
    "# Similarly, within female:\n",
    "# age=15, y=300 (2 of them)\n",
    "# age=20, y=400 (8 of them)\n",
    "# (2*300+8*400)/10 = 380.  So 380 - 125 = 255 is the coefficient of the female var.\n",
    "y <- c(rep(100,5),rep(150,5),rep(300,2),rep(400,8))"
   ]
  },
  {
   "cell_type": "code",
   "execution_count": 23,
   "metadata": {
    "collapsed": false
   },
   "outputs": [],
   "source": [
    "m <- lm(y~female+age)"
   ]
  },
  {
   "cell_type": "code",
   "execution_count": 24,
   "metadata": {
    "collapsed": false
   },
   "outputs": [
    {
     "data": {
      "text/plain": [
       "\n",
       "Call:\n",
       "lm(formula = y ~ female + age)\n",
       "\n",
       "Residuals:\n",
       "    Min      1Q  Median      3Q     Max \n",
       "-24.390  -9.756   6.098   7.012   9.756 \n",
       "\n",
       "Coefficients:\n",
       "            Estimate Std. Error t value Pr(>|t|)    \n",
       "(Intercept) -118.293     21.048   -5.62 3.06e-05 ***\n",
       "female       234.146      5.643   41.49  < 2e-16 ***\n",
       "age           13.902      1.183   11.75 1.39e-09 ***\n",
       "---\n",
       "Signif. codes:  0 ‘***’ 0.001 ‘**’ 0.01 ‘*’ 0.05 ‘.’ 0.1 ‘ ’ 1\n",
       "\n",
       "Residual standard error: 11.98 on 17 degrees of freedom\n",
       "Multiple R-squared:  0.993,\tAdjusted R-squared:  0.9922 \n",
       "F-statistic:  1202 on 2 and 17 DF,  p-value: < 2.2e-16\n"
      ]
     },
     "execution_count": 24,
     "metadata": {},
     "output_type": "execute_result"
    }
   ],
   "source": [
    "summary(m)"
   ]
  },
  {
   "cell_type": "code",
   "execution_count": null,
   "metadata": {
    "collapsed": true
   },
   "outputs": [],
   "source": []
  }
 ],
 "metadata": {
  "kernelspec": {
   "display_name": "R",
   "language": "R",
   "name": "ir"
  },
  "language_info": {
   "codemirror_mode": "r",
   "file_extension": ".r",
   "mimetype": "text/x-r-source",
   "name": "R",
   "pygments_lexer": "r",
   "version": "3.2.3"
  }
 },
 "nbformat": 4,
 "nbformat_minor": 0
}
