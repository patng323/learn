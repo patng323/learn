{
 "cells": [
  {
   "cell_type": "markdown",
   "metadata": {},
   "source": [
    "# Principal-Component Analysis\n",
    "\n",
    "**Principal-component analysis**, or **PCA**, is a technique for taking a dataset consisting of a set of tuples representing points in a high-dimensional space and *finding* the directions along which the tuples have the greatest variance. "
   ]
  },
  {
   "cell_type": "code",
   "execution_count": 367,
   "metadata": {
    "collapsed": true
   },
   "outputs": [],
   "source": [
    "%matplotlib inline\n",
    "\n",
    "import matplotlib\n",
    "import numpy as np\n",
    "from numpy.linalg import eig\n",
    "import numpy.linalg as linalg\n",
    "import matplotlib.pyplot as plt\n",
    "import matplotlib as mpl\n",
    "import matplotlib.patheffects\n",
    "from mpl_toolkits.mplot3d import Axes3D\n",
    "\n",
    "np.random.seed(0)\n",
    "\n",
    "def center_spines(ax=None, centerx=0, centery=0):\n",
    "    \"\"\"Centers the axis spines at <centerx, centery> on the axis \"ax\", and\n",
    "    places arrows at the end of the axis spines.\"\"\"\n",
    "    if ax is None:\n",
    "        ax = plt.gca()\n",
    "\n",
    "    # Set the axis's spines to be centered at the given point\n",
    "    # (Setting all 4 spines so that the tick marks go in both directions)\n",
    "    ax.spines['left'].set_position(('data', centerx))\n",
    "    ax.spines['bottom'].set_position(('data', centery))\n",
    "    ax.spines['right'].set_position(('data', centerx - 1))\n",
    "    ax.spines['top'].set_position(('data', centery - 1))\n",
    "\n",
    "    # Draw an arrow at the end of the spines\n",
    "    ax.spines['left'].set_path_effects([EndArrow()])\n",
    "    ax.spines['bottom'].set_path_effects([EndArrow()])\n",
    "\n",
    "    # Hide the line (but not ticks) for \"extra\" spines\n",
    "    for side in ['right', 'top']:\n",
    "        ax.spines[side].set_color('none')\n",
    "\n",
    "    # On both the x and y axes...\n",
    "    for axis, center in zip([ax.xaxis, ax.yaxis], [centerx, centery]):\n",
    "        # Turn on minor and major gridlines and ticks\n",
    "        axis.set_ticks_position('both')\n",
    "        axis.grid(True, 'major', ls='solid', lw=0.5, color='gray')\n",
    "        axis.grid(True, 'minor', ls='solid', lw=0.1, color='gray')\n",
    "        axis.set_minor_locator(mpl.ticker.AutoMinorLocator())\n",
    "\n",
    "        # Hide the ticklabels at <centerx, centery>\n",
    "        formatter = CenteredFormatter()\n",
    "        formatter.center = center\n",
    "        axis.set_major_formatter(formatter)\n",
    "\n",
    "    # Add offset ticklabels at <centerx, centery> using annotation\n",
    "    # (Should probably make these update when the plot is redrawn...)\n",
    "    xlabel, ylabel = map(formatter.format_data, [centerx, centery])\n",
    "    ax.annotate('(%s, %s)' % (xlabel, ylabel), (centerx, centery),\n",
    "            xytext=(-4, -4), textcoords='offset points',\n",
    "            ha='right', va='top')\n",
    "\n",
    "# Note: I'm implementing the arrows as a path effect rather than a custom \n",
    "#       Spines class. In the long run, a custom Spines class would be a better\n",
    "#       way to go. One of the side effects of this is that the arrows aren't\n",
    "#       reversed when the axes are reversed!\n",
    "\n",
    "class EndArrow(mpl.patheffects._Base):\n",
    "    \"\"\"A matplotlib patheffect to add arrows at the end of a path.\"\"\"\n",
    "    def __init__(self, headwidth=5, headheight=5, facecolor=(0,0,0), **kwargs):\n",
    "        super(mpl.patheffects._Base, self).__init__()\n",
    "        self.width, self.height = headwidth, headheight\n",
    "        self._gc_args = kwargs\n",
    "        self.facecolor = facecolor\n",
    "\n",
    "        self.trans = mpl.transforms.Affine2D()\n",
    "\n",
    "        self.arrowpath = mpl.path.Path(\n",
    "                np.array([[-0.5, -0.2], [0.0, 0.0], [0.5, -0.2], \n",
    "                          [0.0, 1.0], [-0.5, -0.2]]),\n",
    "                np.array([1, 2, 2, 2, 79]))\n",
    "\n",
    "    def draw_path(self, renderer, gc, tpath, affine, rgbFace):\n",
    "        scalex = renderer.points_to_pixels(self.width)\n",
    "        scaley = renderer.points_to_pixels(self.height)\n",
    "\n",
    "        x0, y0 = tpath.vertices[-1]\n",
    "        dx, dy = tpath.vertices[-1] - tpath.vertices[-2]\n",
    "        azi =  np.arctan2(dy, dx) - np.pi / 2.0 \n",
    "        trans = affine + self.trans.clear(\n",
    "                ).scale(scalex, scaley\n",
    "                ).rotate(azi\n",
    "                ).translate(x0, y0)\n",
    "\n",
    "        gc0 = renderer.new_gc()\n",
    "        gc0.copy_properties(gc)\n",
    "        self._update_gc(gc0, self._gc_args)\n",
    "\n",
    "        if self.facecolor is None:\n",
    "            color = rgbFace\n",
    "        else:\n",
    "            color = self.facecolor\n",
    "\n",
    "        renderer.draw_path(gc0, self.arrowpath, trans, color)\n",
    "        renderer.draw_path(gc, tpath, affine, rgbFace)\n",
    "        gc0.restore()\n",
    "\n",
    "class CenteredFormatter(mpl.ticker.ScalarFormatter):\n",
    "    \"\"\"Acts exactly like the default Scalar Formatter, but yields an empty\n",
    "    label for ticks at \"center\".\"\"\"\n",
    "    center = 0\n",
    "    def __call__(self, value, pos=None):\n",
    "        if value == self.center:\n",
    "            return ''\n",
    "        else:\n",
    "            return mpl.ticker.ScalarFormatter.__call__(self, value, pos)"
   ]
  },
  {
   "cell_type": "code",
   "execution_count": 362,
   "metadata": {
    "collapsed": true
   },
   "outputs": [],
   "source": [
    "def processParams(A, c, title):\n",
    "    As = A if type(A) is list else [A]\n",
    "    n = len(As)\n",
    "    \n",
    "    titles = title if type(title) is list else (title for i in range(n))\n",
    "    colors = c if type(c) is list else (c for i in range(n))\n",
    "    \n",
    "    return n, As, colors, titles\n",
    "    \n",
    "\n",
    "def plotMatrix(A, c='blue', title=''):\n",
    "    n, As, colors, titles = processParams(A, c, title)\n",
    "    \n",
    "    f, axarr = plt.subplots(1, n, figsize=(4*n, 4*n))\n",
    "    if n == 1:\n",
    "        axarr = [axarr]\n",
    "        \n",
    "    for i, A, color, title in zip(range(n), As, colors, titles):\n",
    "        ax = axarr[i]\n",
    "        #plt.plot(A[:,0], A[:,1], 'ro', markersize = 3)\n",
    "        ax.scatter(A[:,0].A1, A[:,1].A1, s = 5, c = color, edgecolors=\"face\")\n",
    "        ax.set_aspect('equal', adjustable='box')\n",
    "        ax.set_xlim(-15, 15)\n",
    "        ax.set_ylim(-15,15)\n",
    "        center_spines(ax)\n",
    "        ax.set_title(title)\n",
    "        \n",
    "    plt.show()\n",
    "    \n",
    "def plot3DMatrix(A, c='blue', title=''):\n",
    "    n, As, colors, titles = processParams(A, c, title)\n",
    "\n",
    "    # Twice as wide as it is tall\n",
    "    fig = plt.figure(figsize=plt.figaspect(0.5))\n",
    "\n",
    "    for i, A, color, title in zip(range(n), As, colors, titles):\n",
    "        ax = fig.add_subplot(1, n, i+1, projection='3d')\n",
    "        ax.scatter(A[:,0].A1, A[:,1].A1, A[:,2].A1, zdir=\"y\", c = color, edgecolors=\"face\", s=5)\n",
    "        ax.set_xlabel('X')\n",
    "        ax.set_ylabel('Z')\n",
    "        ax.set_zlabel('Y')\n",
    "        ax.set_title(title)\n",
    "\n",
    "    plt.show()  "
   ]
  },
  {
   "cell_type": "markdown",
   "metadata": {},
   "source": [
    "# Eigenvectors and Eigenvalues\n",
    "\n",
    "An **eigenvector** is a vector whose direction remains unchanged when a linear transformation is applied to it.\n",
    "\n",
    "Let A represent the transformation, and e be an eigenvector.  Then \n",
    "$$Ae = \\lambda e$$\n",
    "\n",
    "Please note that λ is a constant, and so the direction of Ae will remain unchanged."
   ]
  },
  {
   "cell_type": "code",
   "execution_count": 248,
   "metadata": {
    "collapsed": false
   },
   "outputs": [
    {
     "name": "stdout",
     "output_type": "stream",
     "text": [
      "[[ 2.   0. ]\n",
      " [ 0.   0.5]]\n"
     ]
    }
   ],
   "source": [
    "A = np.matrix([[2,0], [0,0.5]])\n",
    "print A"
   ]
  },
  {
   "cell_type": "code",
   "execution_count": 249,
   "metadata": {
    "collapsed": false
   },
   "outputs": [
    {
     "name": "stdout",
     "output_type": "stream",
     "text": [
      "Eigenvalues:\n",
      "[[ 2.   0.5]]\n",
      "\n",
      "Eigenvectors:\n",
      "[[[ 1.  0.]\n",
      "  [ 0.  1.]]]\n"
     ]
    }
   ],
   "source": [
    "evalues, evectors = eig([A])\n",
    "print \"Eigenvalues:\"\n",
    "print evalues\n",
    "\n",
    "print \n",
    "print \"Eigenvectors:\"\n",
    "print evectors\n"
   ]
  },
  {
   "cell_type": "code",
   "execution_count": 250,
   "metadata": {
    "collapsed": false
   },
   "outputs": [
    {
     "name": "stdout",
     "output_type": "stream",
     "text": [
      "Ae:\n",
      "[[ 2.]\n",
      " [ 0.]]\n",
      "\n",
      "λe:\n",
      "[[ 2.]\n",
      " [ 0.]]\n"
     ]
    }
   ],
   "source": [
    "# Let's try the first vector\n",
    "e = evectors[0,0].reshape(-1,1)\n",
    "lambdaValue = evalues[0,0]\n",
    "print \"Ae:\"\n",
    "print A * e\n",
    "print\n",
    "print \"λe:\"\n",
    "print lambdaValue * e"
   ]
  },
  {
   "cell_type": "code",
   "execution_count": 345,
   "metadata": {
    "collapsed": false
   },
   "outputs": [
    {
     "name": "stdout",
     "output_type": "stream",
     "text": [
      "Covariance Matrix:\n",
      "[[ 19.23375032  16.34081792]\n",
      " [ 16.34081792  17.62664343]]\n"
     ]
    }
   ],
   "source": [
    "u = np.random.normal(0, 4, 100)\n",
    "v = np.random.normal(0, 1, 100)\n",
    "x = u + v\n",
    "y = u - v\n",
    "M = np.matrix(zip(x,y))\n",
    "C = np.cov(M, rowvar=0) # set rowvar=0, meaning each col in A is a variable, and each row is an observation\n",
    "print \"Covariance Matrix:\"\n",
    "print C"
   ]
  },
  {
   "cell_type": "code",
   "execution_count": 346,
   "metadata": {
    "collapsed": false
   },
   "outputs": [
    {
     "data": {
      "image/png": "[encoded data removed]",
      "text/plain": [
       "<matplotlib.figure.Figure at 0x10f587b90>"
      ]
     },
     "metadata": {},
     "output_type": "display_data"
    }
   ],
   "source": [
    "plotMatrix(M)"
   ]
  },
  {
   "cell_type": "markdown",
   "metadata": {},
   "source": [
    "### Covariance and M'M\n",
    "\n",
    "Please note that if M is mean centered (value in each dimension = (v-mean), where mean is the mean of the values in that dimension).\n",
    "\n",
    "In this case, the covariance of M = M'M / (n-1) where n is the number of rows in M."
   ]
  },
  {
   "cell_type": "code",
   "execution_count": 347,
   "metadata": {
    "collapsed": false
   },
   "outputs": [
    {
     "name": "stdout",
     "output_type": "stream",
     "text": [
      "Mn'Mn (each col in Mn is mean-centered):\n",
      "[[ 19.23375032  16.34081792]\n",
      " [ 16.34081792  17.62664343]]\n",
      "\n",
      "Covariance of Mn:\n",
      "[[ 19.23375032  16.34081792]\n",
      " [ 16.34081792  17.62664343]]\n"
     ]
    }
   ],
   "source": [
    "Mn = M.copy()\n",
    "\n",
    "s = 1#np.std(Mn[:,0])\n",
    "mu = np.mean(Mn[:,0])\n",
    "Mn[:,0] = (Mn[:,0] - mu)/s\n",
    "\n",
    "s = 1#np.std(Mn[:,1])\n",
    "mu = np.mean(Mn[:,1])\n",
    "Mn[:,1] = (Mn[:,1] - mu)/s\n",
    "\n",
    "MntMn = Mn.transpose() * Mn / (Mn.shape[0] - 1)\n",
    "print \"Mn'Mn (each col in Mn is mean-centered):\"\n",
    "print MntMn\n",
    "print\n",
    "print \"Covariance of Mn:\"\n",
    "print np.cov(Mn, rowvar=0)"
   ]
  },
  {
   "cell_type": "markdown",
   "metadata": {},
   "source": [
    "### PCA steps\n",
    "\n",
    "- Calculate MtM\n",
    "- Calculate the eigenpaiars of MtM\n",
    "- Order the eigenvectors by their corresponding eigenvalues\n",
    "- The axis with the largest eigenvalue is the **principal eigenvector**.  It is the vector along which the points are most “spread out”.  This axis is the one along which the variance of the *projected* data is maximized. "
   ]
  },
  {
   "cell_type": "code",
   "execution_count": 348,
   "metadata": {
    "collapsed": false
   },
   "outputs": [
    {
     "name": "stdout",
     "output_type": "stream",
     "text": [
      "MtM:\n",
      "[[ 1910.55168988  1613.87545118]\n",
      " [ 1613.87545118  1747.36863835]]\n",
      "\n",
      "Eigenvalues:\n",
      "[ 3444.89678075   213.02354747]\n",
      "\n",
      "Eigenvectors (note: the columns):\n",
      "[[ 0.7247385  -0.68902402]\n",
      " [ 0.68902402  0.7247385 ]]\n",
      "\n",
      "Eigenmatrix:\n",
      "[[ 0.7247385  -0.68902402]\n",
      " [ 0.68902402  0.7247385 ]]\n"
     ]
    },
    {
     "data": {
      "image/png": "[encoded data removed]",
      "text/plain": [
       "<matplotlib.figure.Figure at 0x113cd5250>"
      ]
     },
     "metadata": {},
     "output_type": "display_data"
    }
   ],
   "source": [
    "def getMtMandEigenpairs(M):\n",
    "    MtM = M.transpose() * M\n",
    "    evals, evectors = eig([MtM]) # Note: eigenvectors are unit vectors\n",
    "    evals = evals[0]\n",
    "    evectors = evectors[0]\n",
    "    return MtM, evals, evectors\n",
    "\n",
    "# Calculate MtM and the eigenpairs\n",
    "MtM, evals, evectors = getMtMandEigenpairs(M)\n",
    "\n",
    "print \"MtM:\"\n",
    "print MtM\n",
    "\n",
    "print\n",
    "print \"Eigenvalues:\"\n",
    "print evals\n",
    "\n",
    "print\n",
    "print \"Eigenvectors (note: the columns):\"\n",
    "print evectors\n",
    "    \n",
    "# Placing the principle eigenvector (one with largest eigenvalue) first, the eigenvector matrix is:\n",
    "E = np.matrix([evectors[:,0], evectors[:,1]]).transpose()\n",
    "print\n",
    "print \"Eigenmatrix:\"\n",
    "print E\n",
    "\n",
    "ax = plt.gca()\n",
    "ax.set_aspect('equal', adjustable='box')\n",
    "plt.scatter(M[:,0].A1, M[:,1].A1, s = 5, c = 'blue', edgecolors=\"face\")\n",
    "plt.xlim(-15, 15)\n",
    "plt.ylim(-15,15)\n",
    "ax.quiver([0,0], [0,0], \n",
    "          E[0,:].A1, # list of x coordinates\n",
    "          E[1,:].A1, # list of y coordiates\n",
    "          angles='xy',scale_units='xy',scale=0.1, color=[\"red\", \"orange\"])\n",
    "center_spines()\n",
    "plt.show()"
   ]
  },
  {
   "cell_type": "markdown",
   "metadata": {},
   "source": [
    "The 1st principal eigenvector is the axis which, when all the data are projected on it, **shows the largest variance**.  In our example, it is the red vector.\n",
    "\n",
    "Next we will rotate all the coordinates and we can see the large variance along the principal component."
   ]
  },
  {
   "cell_type": "code",
   "execution_count": 349,
   "metadata": {
    "collapsed": false
   },
   "outputs": [
    {
     "data": {
      "image/png": "[encoded data removed]",
      "text/plain": [
       "<matplotlib.figure.Figure at 0x10f5e4610>"
      ]
     },
     "metadata": {},
     "output_type": "display_data"
    },
    {
     "name": "stdout",
     "output_type": "stream",
     "text": [
      "Covariance Matrix of rotated matrix:\n",
      "[[  3.47907445e+01   2.25485893e-02]\n",
      " [  2.25485893e-02   2.06964921e+00]]\n"
     ]
    }
   ],
   "source": [
    "ME = M * E\n",
    "plotMatrix(ME)\n",
    "\n",
    "C_ME = np.cov(ME, rowvar=0) # set rowvar=0, meaning each col in A is a variable, and each row is an observation\n",
    "print \"Covariance Matrix of rotated matrix:\"\n",
    "print C_ME"
   ]
  },
  {
   "cell_type": "markdown",
   "metadata": {},
   "source": [
    "We observed that ME is the points of M transformed into a new coordinate space:\n",
    "- In this space, the first axis (the one corresponding to the largest eigenvalue) is the most significant; formally, the variance of points along that axis is the greatest. \n",
    "- The second axis, corresponding to the second eigenpair, is next most significant in the same sense, and the pattern continues for each of the eigenpairs. \n",
    "- If we want to transform M to a space with fewer dimensions, then the choice that preserves the most significance is the one that uses the eigenvectors associated with the largest eigenvalues and ignores the other eigenvalues.\n",
    "- Moreover, in the new coordinate space, x and y are now uncorrelated, as shown in the figure and in the covariance matrix.  So we can reduce dimension [without worrying about losing information][1] in multiple dimensions.\n",
    "\n",
    "For example, let's reduce the dimension of M from 2D to 1D.\n",
    "\n",
    "[1]: http://www.visiondummy.com/2014/05/feature-extraction-using-pca/"
   ]
  },
  {
   "cell_type": "code",
   "execution_count": 350,
   "metadata": {
    "collapsed": false
   },
   "outputs": [
    {
     "data": {
      "image/png": "[encoded data removed]",
      "text/plain": [
       "<matplotlib.figure.Figure at 0x10f56e210>"
      ]
     },
     "metadata": {},
     "output_type": "display_data"
    }
   ],
   "source": [
    "E1 = E[:,0]\n",
    "M_1D = M * E1\n",
    "\n",
    "plt.scatter(M_1D[:,0].A1, np.zeros(M_1D.shape[0]), s = 3, c = 'green', edgecolors=\"face\")\n",
    "plt.grid(True)\n",
    "plt.show()"
   ]
  },
  {
   "cell_type": "code",
   "execution_count": 351,
   "metadata": {
    "collapsed": false
   },
   "outputs": [
    {
     "data": {
      "image/png": "[encoded data removed]",
      "text/plain": [
       "<matplotlib.figure.Figure at 0x10f5f3a50>"
      ]
     },
     "metadata": {},
     "output_type": "display_data"
    }
   ],
   "source": [
    "## Recover M from M_1D\n",
    "\n",
    "M_approx = M_1D * E1.transpose()\n",
    "plotMatrix([M, M_approx], c=['blue','green'], title=[\"Original\", \"An approximation from M_1D\"])"
   ]
  },
  {
   "cell_type": "markdown",
   "metadata": {},
   "source": [
    "## Repeat it using a 3D matrix"
   ]
  },
  {
   "cell_type": "code",
   "execution_count": 352,
   "metadata": {
    "collapsed": false
   },
   "outputs": [
    {
     "data": {
      "image/png": "[encoded data removed]",
      "text/plain": [
       "<matplotlib.figure.Figure at 0x10f10e7d0>"
      ]
     },
     "metadata": {},
     "output_type": "display_data"
    },
    {
     "name": "stdout",
     "output_type": "stream",
     "text": [
      "Covariance Matrix:\n",
      "[[ 17.42959272  15.36351139  -2.6295605 ]\n",
      " [ 15.36351139  16.87999098  -1.25252563]\n",
      " [ -2.6295605   -1.25252563  14.36292265]]\n"
     ]
    }
   ],
   "source": [
    "u = np.random.normal(0, 4, 100)\n",
    "v = np.random.normal(0, 1, 100)\n",
    "x = u + v\n",
    "y = u - v\n",
    "z = u * v\n",
    "M = np.matrix(zip(x,y,z))\n",
    "plot3DMatrix(M)\n",
    "C = np.cov(M, rowvar=0) # set rowvar=0, meaning each col in A is a variable, and each row is an observation\n",
    "print \"Covariance Matrix:\"\n",
    "print C\n"
   ]
  },
  {
   "cell_type": "code",
   "execution_count": 353,
   "metadata": {
    "collapsed": false
   },
   "outputs": [
    {
     "name": "stdout",
     "output_type": "stream",
     "text": [
      "\n",
      "Eigenvalues:\n",
      "[ 3322.09154942   172.32269741  1389.60628585]\n",
      "\n",
      "Eigenvectors (note: the columns):\n",
      "[[ 0.71133482  0.7008387   0.05317782]\n",
      " [ 0.6865151  -0.70902649  0.16117834]\n",
      " [-0.1506645   0.07814439  0.98549158]]\n"
     ]
    }
   ],
   "source": [
    "MtM, evals, evectors = getMtMandEigenpairs(M)\n",
    "\n",
    "print\n",
    "print \"Eigenvalues:\"\n",
    "print evals\n",
    "\n",
    "print\n",
    "print \"Eigenvectors (note: the columns):\"\n",
    "print evectors\n",
    "    \n"
   ]
  },
  {
   "cell_type": "code",
   "execution_count": 354,
   "metadata": {
    "collapsed": false
   },
   "outputs": [
    {
     "name": "stdout",
     "output_type": "stream",
     "text": [
      "Eigenvector matrix, with vectors ordered by eigenvalues:\n",
      "[[ 0.71133482  0.05317782  0.7008387 ]\n",
      " [ 0.6865151   0.16117834 -0.70902649]\n",
      " [-0.1506645   0.98549158  0.07814439]]\n"
     ]
    }
   ],
   "source": [
    "evectors[:,[1,2]] = evectors[:,[2,1]] # Let's rank the eigenvectors by the eigenvalues, by swapping 2nd and 3rd cols.\n",
    "E = evectors\n",
    "print \"Eigenvector matrix, with vectors ordered by eigenvalues:\"\n",
    "print E"
   ]
  },
  {
   "cell_type": "markdown",
   "metadata": {},
   "source": [
    "We will reduce M by using the 1st and 2nd eigenvectors."
   ]
  },
  {
   "cell_type": "code",
   "execution_count": 355,
   "metadata": {
    "collapsed": false
   },
   "outputs": [
    {
     "data": {
      "image/png": "[encoded data removed]",
      "text/plain": [
       "<matplotlib.figure.Figure at 0x10f49add0>"
      ]
     },
     "metadata": {},
     "output_type": "display_data"
    }
   ],
   "source": [
    "# Multiple a vector by -1 won't affect the property of this eigenvector, but it helps to match the result obtained\n",
    "# from sklearn.pca\n",
    "E[:,[1]] = E[:,[1]]*-1\n",
    "\n",
    "M_reduced = M * E[:,[0,1]]\n",
    "plotMatrix(M_reduced, title=\"3D matrix reduced to 2D\")\n"
   ]
  },
  {
   "cell_type": "markdown",
   "metadata": {},
   "source": [
    "## Let's see what we get from calling sklearn PCA"
   ]
  },
  {
   "cell_type": "code",
   "execution_count": 356,
   "metadata": {
    "collapsed": false
   },
   "outputs": [
    {
     "data": {
      "image/png": "[encoded data removed]",
      "text/plain": [
       "<matplotlib.figure.Figure at 0x110e5afd0>"
      ]
     },
     "metadata": {},
     "output_type": "display_data"
    }
   ],
   "source": [
    "from sklearn.decomposition import PCA\n",
    "pca = PCA(n_components=2, whiten=False)\n",
    "pca.fit(M)\n",
    "pca_reduced = pca.transform(M)\n",
    "plotMatrix([M_reduced, np.matrix(pca_reduced)],c=['blue', 'green'], \n",
    "           title=[\"3D matrix reduced to 2D\", \"Reduced by sklearn PCA\"])"
   ]
  },
  {
   "cell_type": "markdown",
   "metadata": {},
   "source": [
    "### Approximate M back from M_reduced"
   ]
  },
  {
   "cell_type": "code",
   "execution_count": 363,
   "metadata": {
    "collapsed": false
   },
   "outputs": [
    {
     "data": {
      "image/png": "[encoded data removed]",
      "text/plain": [
       "<matplotlib.figure.Figure at 0x113909450>"
      ]
     },
     "metadata": {},
     "output_type": "display_data"
    }
   ],
   "source": [
    "# M_reduced = M * E[:,[0,1]]\n",
    "M_approx = M_reduced * (E[:, [0,1]]).transpose()\n",
    "plot3DMatrix([M, M_approx], c = ['blue', 'green'], title=['Original', 'Approximate'])"
   ]
  },
  {
   "cell_type": "code",
   "execution_count": 246,
   "metadata": {
    "collapsed": false
   },
   "outputs": [
    {
     "name": "stdout",
     "output_type": "stream",
     "text": [
      "[Manually] Eigenvectors (transposed):\n",
      "[[ 0.72172443  0.68868146  0.06951043]\n",
      " [ 0.0990302  -0.00334576 -0.9950788 ]\n",
      " [ 0.68505976 -0.72505631  0.07061498]]\n",
      "\n",
      "[PCA] Eigenvectors:\n",
      "[[ 0.70879008  0.68994849 -0.14692756]\n",
      " [-0.05115537 -0.15746306 -0.98619902]]\n",
      "\n",
      "[Manually] Reduced matrix (first 5 rows):\n",
      "[[-8.17179315 -9.65834639]\n",
      " [ 2.17389397  2.04657827]\n",
      " [-5.14674757 -3.40670273]\n",
      " [ 1.45192634 -0.83422106]\n",
      " [-8.01594986  0.80002744]]\n",
      "\n",
      "[PCA] Reduced matrix (first 5 rows):\n",
      "[[-9.23128571 -7.59677972]\n",
      " [ 3.39612668  1.61638455]\n",
      " [-4.94912692 -2.13337826]\n",
      " [ 1.98677667 -1.01000684]\n",
      " [-6.8806864   2.60105294]]\n"
     ]
    }
   ],
   "source": [
    "print \"[Manually] Eigenvectors (transposed):\"\n",
    "print E.transpose()\n",
    "print\n",
    "print \"[PCA] Eigenvectors:\"\n",
    "print(pca.components_)\n",
    "\n",
    "print\n",
    "print \"[Manually] Reduced matrix (first 5 rows):\"\n",
    "print M_reduced[0:5]\n",
    "\n",
    "print\n",
    "print \"[PCA] Reduced matrix (first 5 rows):\"\n",
    "print pca_reduced[0:5]"
   ]
  },
  {
   "cell_type": "markdown",
   "metadata": {},
   "source": [
    "# SVD - Singular Value Decomposition\n",
    "\n",
    "SVD defines a small number of “concepts” that connect the rows and columns of the matrix:\n",
    "- By eliminating the least important concepts we get a smaller representation that closely approximates the original matrix. \n",
    "- These \"concepts\" can be used to query the original matrix more efficiently."
   ]
  },
  {
   "cell_type": "markdown",
   "metadata": {},
   "source": [
    "### Rank\n",
    "\n",
    "Rank is the number of rows (or columns) in a matrix which are *independent*."
   ]
  },
  {
   "cell_type": "code",
   "execution_count": 371,
   "metadata": {
    "collapsed": false
   },
   "outputs": [
    {
     "name": "stdout",
     "output_type": "stream",
     "text": [
      "Rank(A) = 3\n",
      "Rank(A1) = 2\n"
     ]
    }
   ],
   "source": [
    "A = np.matrix([\n",
    "        [1, 2, 1, 0],\n",
    "        [2, 4, 5, 1],\n",
    "        [3, 6, 7, -2],\n",
    "        [4, 8, 2, 5]\n",
    "    ])\n",
    "\n",
    "# Rank = 3 because col-1 is col-0 * 2\n",
    "print \"Rank(A) =\", linalg.matrix_rank(A)\n",
    "\n",
    "A1 = A.copy()\n",
    "A1[:,3] = A1[:,0]*5 - A1[:,2]*2 # Moreover, col-3 = 5*col-0 - 2*col-2\n",
    "print \"Rank(A1) =\", linalg.matrix_rank(A1) \n"
   ]
  },
  {
   "cell_type": "markdown",
   "metadata": {},
   "source": [
    "### Decomposition\n",
    "\n",
    "Assume we have a user-movie matrix, where the values are movie ratings.\n",
    "<img src=\"files/movie-ratings-1.png\" style=\"height:250px\">\n"
   ]
  },
  {
   "cell_type": "code",
   "execution_count": 428,
   "metadata": {
    "collapsed": false
   },
   "outputs": [],
   "source": [
    "A = np.matrix([\n",
    "        [1,1,1,0,0],\n",
    "        [3,3,3,0,0],\n",
    "        [4,4,4,0,0],\n",
    "        [5,5,5,0,0],\n",
    "        [0,0,0,4,4],\n",
    "        [0,0,0,5,5],\n",
    "        [0,0,0,2,2],\n",
    "    ])\n",
    "\n",
    "import scipy.sparse as sp\n",
    "M = sp.lil_matrix((A.shape[0], A.shape[1]))\n",
    "\n",
    "for i in range(A.shape[0]):\n",
    "    M[i] = A[i,:]\n",
    "    "
   ]
  },
  {
   "cell_type": "code",
   "execution_count": 429,
   "metadata": {
    "collapsed": false
   },
   "outputs": [
    {
     "name": "stdout",
     "output_type": "stream",
     "text": [
      "U, S, V':\n",
      "\n",
      "[[ 0.     0.14 ]\n",
      " [ 0.     0.42 ]\n",
      " [ 0.     0.56 ]\n",
      " [ 0.     0.7  ]\n",
      " [ 0.596 -0.   ]\n",
      " [ 0.745 -0.   ]\n",
      " [ 0.298 -0.   ]]\n",
      "\n",
      "[[  9.487   0.   ]\n",
      " [  0.     12.369]]\n",
      "\n",
      "[[ 0.     0.    -0.     0.707  0.707]\n",
      " [ 0.577  0.577  0.577  0.    -0.   ]]\n"
     ]
    }
   ],
   "source": [
    "# Assume rank = 2\n",
    "# Let's do an SVD decomposition\n",
    "from scipy.sparse.linalg import svds\n",
    "\n",
    "np.set_printoptions(precision=3, suppress=True)\n",
    "U, S, V = svds(M, k=2)\n",
    "S = np.diag(S)\n",
    "print \"U, S, V':\\n\"\n",
    "print U\n",
    "print\n",
    "print S\n",
    "print\n",
    "print V"
   ]
  },
  {
   "cell_type": "code",
   "execution_count": 430,
   "metadata": {
    "collapsed": false
   },
   "outputs": [
    {
     "name": "stdout",
     "output_type": "stream",
     "text": [
      "[[-0.14   0.     0.417 -0.56  -0.42   0.522  0.209]\n",
      " [-0.42   0.     0.154 -0.206  0.845  0.192  0.077]\n",
      " [-0.56   0.     0.205  0.725 -0.206  0.256  0.103]\n",
      " [-0.7    0.    -0.34  -0.344 -0.258 -0.425 -0.17 ]\n",
      " [ 0.    -0.596  0.644  0.     0.    -0.444 -0.178]\n",
      " [ 0.    -0.745 -0.444  0.     0.     0.444 -0.222]\n",
      " [ 0.    -0.298 -0.178  0.     0.    -0.222  0.911]]\n",
      "\n",
      "[ 12.369   9.487   0.      0.      0.   ]\n",
      "\n",
      "[[-0.577 -0.577 -0.577 -0.    -0.   ]\n",
      " [-0.    -0.    -0.    -0.707 -0.707]\n",
      " [ 0.     0.     0.    -0.707  0.707]\n",
      " [ 0.    -0.707  0.707  0.     0.   ]\n",
      " [ 0.816 -0.408 -0.408  0.     0.   ]]\n",
      "\n"
     ]
    }
   ],
   "source": [
    "# Please note that we can also use linalg.svd.  But we have to drop the zero singular values\n",
    "u, s, v = linalg.svd(A)\n",
    "print u\n",
    "print\n",
    "print s\n",
    "print\n",
    "print v\n",
    "print"
   ]
  },
  {
   "cell_type": "code",
   "execution_count": 431,
   "metadata": {
    "collapsed": false
   },
   "outputs": [
    {
     "name": "stdout",
     "output_type": "stream",
     "text": [
      "From sparse.svds:\n",
      "U, S, V':\n",
      "\n",
      "[[ 0.     0.14 ]\n",
      " [ 0.     0.42 ]\n",
      " [ 0.     0.56 ]\n",
      " [ 0.     0.7  ]\n",
      " [ 0.596 -0.   ]\n",
      " [ 0.745 -0.   ]\n",
      " [ 0.298 -0.   ]]\n",
      "\n",
      "[[  9.487   0.   ]\n",
      " [  0.     12.369]]\n",
      "\n",
      "[[ 0.     0.    -0.     0.707  0.707]\n",
      " [ 0.577  0.577  0.577  0.    -0.   ]]\n",
      "\n",
      "From linalg.svd, after dropping the zero singular values\n",
      "[[-0.14   0.   ]\n",
      " [-0.42   0.   ]\n",
      " [-0.56   0.   ]\n",
      " [-0.7    0.   ]\n",
      " [ 0.    -0.596]\n",
      " [ 0.    -0.745]\n",
      " [ 0.    -0.298]]\n",
      "\n",
      "[[ 12.369   0.   ]\n",
      " [  0.      9.487]]\n",
      "\n",
      "[[-0.577 -0.577 -0.577 -0.    -0.   ]\n",
      " [-0.    -0.    -0.    -0.707 -0.707]]\n"
     ]
    }
   ],
   "source": [
    "print \"From sparse.svds:\"\n",
    "print \"U, S, V':\\n\"\n",
    "print U\n",
    "print\n",
    "print S\n",
    "print\n",
    "print V\n",
    "print\n",
    "print \"From linalg.svd, after dropping the zero singular values\"\n",
    "print u[:,:2]\n",
    "print\n",
    "print np.diag(s[:2])\n",
    "print\n",
    "print v[:2,:]"
   ]
  },
  {
   "cell_type": "markdown",
   "metadata": {},
   "source": [
    "<img src=\"files/movie-ratings-1.png\" style=\"height:180px\">\n",
    "\n",
    "Above, we can see that there are two concepts:\n",
    "- S gives the strength of each of the concepts. \n",
    "    - In our example, the strength of the science-fiction concept is 12.4, while the strength of the romance concept is 9.5. \n",
    "    - Intuitively, the science-fiction concept is stronger because the data provides more information about the movies of that genre and the people who like them.\n",
    "- Each row in U represents a user, with her preference for each concept.\n",
    "- Each col in V represents a move, with its closeness to each concept.\n",
    "    \n"
   ]
  },
  {
   "cell_type": "markdown",
   "metadata": {},
   "source": [
    "## More realistic example\n",
    "\n",
    "The matrix above can be divided into two ranks too obviously.  Let's modify the matrix so that it's a bit more realistic."
   ]
  },
  {
   "cell_type": "code",
   "execution_count": 432,
   "metadata": {
    "collapsed": false
   },
   "outputs": [
    {
     "name": "stdout",
     "output_type": "stream",
     "text": [
      "U, S, V':\n",
      "\n",
      "[[-0.011  0.024  0.138]\n",
      " [-0.032  0.071  0.413]\n",
      " [-0.043  0.094  0.55 ]\n",
      " [-0.054  0.118  0.688]\n",
      " [ 0.654 -0.591  0.153]\n",
      " [-0.678 -0.731  0.072]\n",
      " [ 0.327 -0.296  0.076]]\n",
      "\n",
      "[[  1.346   0.      0.   ]\n",
      " [  0.      9.509   0.   ]\n",
      " [  0.      0.     12.481]]\n",
      "\n",
      "[[-0.41   0.805 -0.41  -0.091 -0.091]\n",
      " [ 0.127 -0.029  0.127 -0.695 -0.695]\n",
      " [ 0.562  0.593  0.562  0.09   0.09 ]]\n"
     ]
    }
   ],
   "source": [
    "A = np.matrix([\n",
    "        [1,1,1,0,0],\n",
    "        [3,3,3,0,0],\n",
    "        [4,4,4,0,0],\n",
    "        [5,5,5,0,0],\n",
    "        [0,2,0,4,4],\n",
    "        [0,0,0,5,5],\n",
    "        [0,1,0,2,2],\n",
    "    ])\n",
    "\n",
    "import scipy.sparse as sp\n",
    "M = sp.lil_matrix((A.shape[0], A.shape[1]))\n",
    "\n",
    "for i in range(A.shape[0]):\n",
    "    M[i] = A[i,:]\n",
    "\n",
    "U, S, V = svds(M, k=3)\n",
    "S = np.diag(S)\n",
    "print \"U, S, V':\\n\"\n",
    "print U\n",
    "print\n",
    "print S\n",
    "print\n",
    "print V"
   ]
  },
  {
   "cell_type": "markdown",
   "metadata": {},
   "source": [
    "<img src=\"files/movie-ratings-2.png\" style=\"height:180px\">\n",
    "\n",
    "We can observe that:\n",
    "- The 2nd and 3rd columns of S still corresponds to \"romance\" and \"sci-fi\". \n",
    "- The 1st column of S isn't so clear.  However, it has a small weight and so it's not so significant.\n",
    "\n",
    "## Dimensionality Reduction\n",
    "\n",
    "Suppose we want to drop to 2 columns.  We do it by setting smallest singular value (i.e. 1.3) to zero.  It has the same effect as setting the 1st column of U and the 3rd row of V' to zero.  In matrix calculation, it is the same as dropping the 1st column of U, the 1st col + 1st row of S, and the 3rd row of V."
   ]
  },
  {
   "cell_type": "code",
   "execution_count": 433,
   "metadata": {
    "collapsed": false
   },
   "outputs": [
    {
     "name": "stdout",
     "output_type": "stream",
     "text": [
      "Approximated by dropping the least singular value:\n",
      "[[ 0.994  1.012  0.994 -0.001 -0.001]\n",
      " [ 2.982  3.035  2.982 -0.004 -0.004]\n",
      " [ 3.976  4.047  3.976 -0.005 -0.005]\n",
      " [ 4.97   5.059  4.97  -0.007 -0.007]\n",
      " [ 0.36   1.292  0.36   4.08   4.08 ]\n",
      " [-0.374  0.734 -0.374  4.917  4.917]\n",
      " [ 0.18   0.646  0.18   2.04   2.04 ]]\n"
     ]
    }
   ],
   "source": [
    "Uc = U[:,1:3]\n",
    "Sc = S[1:,1:]\n",
    "Vc = V[1:,:]\n",
    "M_approx = np.dot(np.dot(Uc, Sc), Vc)\n",
    "\n",
    "print \"Approximated by dropping the least singular value:\"\n",
    "print M_approx"
   ]
  },
  {
   "cell_type": "markdown",
   "metadata": {},
   "source": [
    "<img src=\"files/movie-ratings-2.png\" style=\"height:180px\">\n"
   ]
  },
  {
   "cell_type": "markdown",
   "metadata": {},
   "source": [
    "## Make a prediction for a new user\n",
    "\n",
    "Suppose a new user **x** comes in, with no info except a rating of 4 for the movie \"Matrix\".  We can predict his ratings for other movies."
   ]
  },
  {
   "cell_type": "code",
   "execution_count": 434,
   "metadata": {
    "collapsed": false
   },
   "outputs": [
    {
     "name": "stdout",
     "output_type": "stream",
     "text": [
      "Reminder: shapes of Uc, Sc and Vc: (7, 2) (2, 2) (2, 5)\n",
      "\n",
      "Taste in our concept space: [[ 0.507  2.249]]\n",
      "Approximated ratings:  [[ 1.329  1.319  1.329 -0.15  -0.15 ]]\n"
     ]
    }
   ],
   "source": [
    "x = np.array([4,0,0,0,0]).reshape(1,-1)\n",
    "\n",
    "print \"Reminder: shapes of Uc, Sc and Vc:\", Uc.shape, Sc.shape, Vc.shape\n",
    "print\n",
    "\n",
    "# His preference in our concept space\n",
    "conceptPref = np.dot(x, Vc.transpose())\n",
    "print \"Taste in our concept space:\", conceptPref\n",
    "\n",
    "# An approximation of his ratings by mapping the taste back to a row in original ratings\n",
    "approxRatings = np.dot(conceptPref, Vc)\n",
    "print \"Approximated ratings: \", approxRatings\n"
   ]
  },
  {
   "cell_type": "markdown",
   "metadata": {},
   "source": [
    "## Compare taste of users and find similar users\n",
    "\n",
    "<img src=\"files/movie-ratings-2.png\" style=\"height:180px\">\n"
   ]
  },
  {
   "cell_type": "code",
   "execution_count": 436,
   "metadata": {
    "collapsed": false
   },
   "outputs": [
    {
     "name": "stdout",
     "output_type": "stream",
     "text": [
      "Cosine distance = -2.22044604925e-16\n",
      "Cosine distance = 0.80419710887\n",
      "Cosine distance = 0.0195712915024\n"
     ]
    }
   ],
   "source": [
    "joe = A[0,:]\n",
    "jack = A[3,:]\n",
    "jenny = A[5,:]\n",
    "jane = A[6, :]\n",
    "\n",
    "import scipy.spatial.distance as distance\n",
    "\n",
    "# Compare the taste of two users by transforming them to the concept space, and then calculate\n",
    "# the cosine distance between their concept-vectors.\n",
    "def compareTaste(a, b):\n",
    "    conceptA = np.dot(a, Vc.transpose())\n",
    "    conceptB = np.dot(b, Vc.transpose())\n",
    "    print \"Cosine distance =\", distance.cosine(conceptA, conceptB)\n",
    "    \n",
    "compareTaste(joe, jack)\n",
    "compareTaste(joe, jane)\n",
    "compareTaste(jenny, jane)"
   ]
  },
  {
   "cell_type": "code",
   "execution_count": null,
   "metadata": {
    "collapsed": true
   },
   "outputs": [],
   "source": []
  }
 ],
 "metadata": {
  "kernelspec": {
   "display_name": "Python 2",
   "language": "python",
   "name": "python2"
  },
  "language_info": {
   "codemirror_mode": {
    "name": "ipython",
    "version": 2
   },
   "file_extension": ".py",
   "mimetype": "text/x-python",
   "name": "python",
   "nbconvert_exporter": "python",
   "pygments_lexer": "ipython2",
   "version": "2.7.5"
  }
 },
 "nbformat": 4,
 "nbformat_minor": 0
}
