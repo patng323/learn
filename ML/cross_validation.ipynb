{
 "cells": [
  {
   "cell_type": "code",
   "execution_count": 1,
   "metadata": {
    "collapsed": true
   },
   "outputs": [],
   "source": [
    "from sklearn import datasets, linear_model, cross_validation, grid_search\n",
    "import numpy as np\n",
    "digits = datasets.load_digits()\n",
    "x = digits.data[:1000]\n",
    "y = digits.target[:1000]"
   ]
  },
  {
   "cell_type": "code",
   "execution_count": 4,
   "metadata": {
    "collapsed": false
   },
   "outputs": [
    {
     "name": "stdout",
     "output_type": "stream",
     "text": [
      "(1000, 64) (1000,)\n"
     ]
    }
   ],
   "source": [
    "print x.shape, y.shape"
   ]
  },
  {
   "cell_type": "markdown",
   "metadata": {},
   "source": [
    "K-Fold Cross Validation is used to validate your model through generating different combinations of the data you already have. \n",
    "\n",
    "For example, if you have 100 samples, you can train your model on the first 90, and test on the last 10. Then you could train on samples 1-80 & 90-100, and test on samples 80-90. Then repeat. This way, you get different combinations of train/test data, essentially giving you ‘more’ data for validation from your original data. \n",
    "\n",
    "The number of times you ‘switch around’ the train/test data is the number of folds. Therefore, 3-Fold Cross Validation will yield 3 sets of train/test data, 5-Fold Cross Validation will yield 5 sets, and so forth."
   ]
  },
  {
   "cell_type": "code",
   "execution_count": 14,
   "metadata": {
    "collapsed": false
   },
   "outputs": [
    {
     "name": "stdout",
     "output_type": "stream",
     "text": [
      "The two generated sets of indices used for testing and validation:\n",
      "\n",
      "[0 1 2 3 4 5 6 7 8 9] ... len= 900 \n",
      "[17 40 47 63 66 72 76 88 89 92] ... len= 100 \n",
      "\n",
      "\n",
      "[0 1 2 3 4 5 6 7 8 9] ... len= 900 \n",
      "[ 11  35  55  65  67  70  74  77  98 102] ... len= 100 \n",
      "\n",
      "\n",
      "[0 1 2 3 4 5 6 7 8 9] ... len= 900 \n",
      "[ 13  33  34  36  42  50  53  62  90 106] ... len= 100 \n",
      "\n",
      "\n",
      "[ 0  1  2  3  4  5  6  7  9 10] ... len= 900 \n",
      "[  8  31  45  80  83  97 101 108 117 135] ... len= 100 \n",
      "\n",
      "\n",
      "[ 0  1  2  4  5  6  7  8  9 10] ... len= 900 \n",
      "[ 3 14 15 18 24 25 61 68 71 75] ... len= 100 \n",
      "\n",
      "\n",
      "[ 0  2  3  5  7  8  9 10 11 12] ... len= 900 \n",
      "[ 1  4  6 16 20 43 46 57 64 79] ... len= 100 \n",
      "\n",
      "\n",
      "[0 1 2 3 4 5 6 7 8 9] ... len= 900 \n",
      "[12 21 28 38 39 48 60 69 82 84] ... len= 100 \n",
      "\n",
      "\n",
      "[0 1 2 3 4 5 6 7 8 9] ... len= 900 \n",
      "[ 19  23  26  37  41  81 111 116 118 121] ... len= 100 \n",
      "\n",
      "\n",
      "[ 0  1  3  4  6  8 11 12 13 14] ... len= 900 \n",
      "[ 2  5  7  9 10 22 27 29 32 49] ... len= 100 \n",
      "\n",
      "\n",
      "[ 1  2  3  4  5  6  7  8  9 10] ... len= 900 \n",
      "[  0  30  44  51  56  58  59  73  95 107] ... len= 100 \n",
      "\n",
      "\n"
     ]
    }
   ],
   "source": [
    "kf_total = cross_validation.KFold(len(x), n_folds=10, shuffle=True, random_state=4)\n",
    "\n",
    "print \"The two generated sets of indices used for testing and validation:\\n\"\n",
    "for train, test in kf_total:\n",
    "    print train[0:10], \"... len=\", len(train),'\\n', test[0:10], \"... len=\", len(test), '\\n\\n'"
   ]
  },
  {
   "cell_type": "code",
   "execution_count": null,
   "metadata": {
    "collapsed": true
   },
   "outputs": [],
   "source": [
    "# Create a model\n",
    "lr = linear_model.LogisticRegression()"
   ]
  },
  {
   "cell_type": "code",
   "execution_count": 15,
   "metadata": {
    "collapsed": false
   },
   "outputs": [
    {
     "data": {
      "text/plain": [
       "[0.95999999999999996,\n",
       " 0.95999999999999996,\n",
       " 0.98999999999999999,\n",
       " 0.96999999999999997,\n",
       " 0.97999999999999998,\n",
       " 0.96999999999999997,\n",
       " 0.93999999999999995,\n",
       " 0.94999999999999996,\n",
       " 0.94999999999999996,\n",
       " 0.96999999999999997]"
      ]
     },
     "execution_count": 15,
     "metadata": {},
     "output_type": "execute_result"
    }
   ],
   "source": [
    "# Way 1: Run on the ten folds and capture the resulting scores in a list\n",
    "[lr.fit(x[train_indices], y[train_indices]).score(x[test_indices],y[test_indices])\n",
    "for train_indices, test_indices in kf_total]"
   ]
  },
  {
   "cell_type": "code",
   "execution_count": 16,
   "metadata": {
    "collapsed": false
   },
   "outputs": [
    {
     "data": {
      "text/plain": [
       "array([ 0.96,  0.96,  0.99,  0.97,  0.98,  0.97,  0.94,  0.95,  0.95,  0.97])"
      ]
     },
     "execution_count": 16,
     "metadata": {},
     "output_type": "execute_result"
    }
   ],
   "source": [
    "# Way 2: Use sklearn utility\n",
    "cross_validation.cross_val_score(lr, x, y, cv=kf_total, n_jobs = 1)\n"
   ]
  },
  {
   "cell_type": "code",
   "execution_count": 18,
   "metadata": {
    "collapsed": false
   },
   "outputs": [
    {
     "data": {
      "text/plain": [
       "array([-1.19, -1.03, -0.36, -0.53, -0.53, -0.57, -1.54, -0.71, -1.26, -1.14])"
      ]
     },
     "execution_count": 18,
     "metadata": {},
     "output_type": "execute_result"
    }
   ],
   "source": [
    "# We can use other metrics \n",
    "cross_validation.cross_val_score(lr, x, y, cv=kf_total, n_jobs = 1, scoring='mean_squared_error')\n",
    "\n",
    "# Note: sklearn flips the sign and return -ve values for MSE.  Purpose: bigger is better\n",
    "# See https://github.com/scikit-learn/scikit-learn/issues/2439"
   ]
  },
  {
   "cell_type": "code",
   "execution_count": null,
   "metadata": {
    "collapsed": true
   },
   "outputs": [],
   "source": []
  }
 ],
 "metadata": {
  "kernelspec": {
   "display_name": "Python 2",
   "language": "python",
   "name": "python2"
  },
  "language_info": {
   "codemirror_mode": {
    "name": "ipython",
    "version": 2
   },
   "file_extension": ".py",
   "mimetype": "text/x-python",
   "name": "python",
   "nbconvert_exporter": "python",
   "pygments_lexer": "ipython2",
   "version": "2.7.10"
  }
 },
 "nbformat": 4,
 "nbformat_minor": 0
}
