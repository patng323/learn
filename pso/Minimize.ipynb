{
 "cells": [
  {
   "cell_type": "code",
   "execution_count": 192,
   "metadata": {
    "ExecuteTime": {
     "end_time": "2017-08-24T11:50:49.042795Z",
     "start_time": "2017-08-24T11:50:49.030116Z"
    },
    "collapsed": true,
    "editable": true
   },
   "outputs": [],
   "source": [
    "%matplotlib inline\n",
    "import scipy as sc\n",
    "import numpy as np\n",
    "from numpy import random\n",
    "from scipy.optimize import minimize\n"
   ]
  },
  {
   "cell_type": "markdown",
   "metadata": {
    "editable": true
   },
   "source": [
    "## Generate sample data"
   ]
  },
  {
   "cell_type": "markdown",
   "metadata": {
    "editable": true
   },
   "source": [
    "### Generate the raw data at time t0"
   ]
  },
  {
   "cell_type": "code",
   "execution_count": 367,
   "metadata": {
    "ExecuteTime": {
     "end_time": "2017-08-24T13:19:25.502500Z",
     "start_time": "2017-08-24T13:19:25.493948Z"
    },
    "collapsed": false,
    "editable": true
   },
   "outputs": [],
   "source": [
    "random.seed(1)\n",
    "n = 5000\n",
    "likeMean = 100\n",
    "\n",
    "# At time t0\n",
    "# We assume Comment count and Share count are roughly 50% and 20% of Like count\n",
    "X1a = random.normal(likeMean, 20, n)  # Like count\n",
    "X2a = random.normal(int(likeMean * 0.5), 10, n)  # Comment count\n",
    "X3a = random.normal(int(likeMean * 0.2), 2, n)  # Share count\n",
    "Xa = np.stack((X1a, X2a, X3a), axis=-1)"
   ]
  },
  {
   "cell_type": "markdown",
   "metadata": {
    "collapsed": true,
    "editable": true
   },
   "source": [
    "### Then we generate the raw data at time t1"
   ]
  },
  {
   "cell_type": "code",
   "execution_count": 419,
   "metadata": {
    "ExecuteTime": {
     "end_time": "2017-08-24T13:26:44.967179Z",
     "start_time": "2017-08-24T13:26:44.959865Z"
    },
    "collapsed": false,
    "editable": true
   },
   "outputs": [],
   "source": [
    "# Assume a proportion of the threads are rising sharply\n",
    "hotProportion = 0.9\n",
    "isHot = random.uniform(low=0, high=1, size=n) > hotProportion\n",
    "\n",
    "# For ease of debugging\n",
    "isHot[0] = True\n",
    "\n",
    "# All activities will rise by 25%\n",
    "baseIncrBy = np.maximum(0, random.normal(0.25, 0.1, size=n))\n",
    "\n",
    "# For \"Hot\" threads, Comment and Share will raise by an extra 25%\n",
    "extraIncrBy = np.maximum(0, isHot * random.normal(0.25, 0.1, size=n))\n",
    "\n",
    "#totalIncrBy = 1 + baseIncrBy + extraIncrBy"
   ]
  },
  {
   "cell_type": "code",
   "execution_count": 420,
   "metadata": {
    "ExecuteTime": {
     "end_time": "2017-08-24T13:26:45.588242Z",
     "start_time": "2017-08-24T13:26:45.584112Z"
    },
    "collapsed": true
   },
   "outputs": [],
   "source": [
    "X1b = X1a*(1+baseIncrBy)\n",
    "X2b = X2a*(1 + baseIncrBy + extraIncrBy)\n",
    "X3b = X3a*(1 + baseIncrBy + extraIncrBy)"
   ]
  },
  {
   "cell_type": "code",
   "execution_count": 421,
   "metadata": {
    "ExecuteTime": {
     "end_time": "2017-08-24T13:26:46.190643Z",
     "start_time": "2017-08-24T13:26:46.184426Z"
    },
    "collapsed": false,
    "editable": true
   },
   "outputs": [],
   "source": [
    "# Raw data at time t1\n",
    "#Xb = (Xa.T * totalIncrBy).T\n",
    "Xb = np.stack((X1b, X2b, X3b), axis=-1)"
   ]
  },
  {
   "cell_type": "markdown",
   "metadata": {},
   "source": [
    "#### Inspect the generated data"
   ]
  },
  {
   "cell_type": "code",
   "execution_count": 422,
   "metadata": {
    "ExecuteTime": {
     "end_time": "2017-08-24T13:26:46.950584Z",
     "start_time": "2017-08-24T13:26:46.944925Z"
    },
    "collapsed": false,
    "editable": true
   },
   "outputs": [
    {
     "data": {
      "text/plain": [
       "array([[ 132.48690727,   40.75244716,   19.75505219],\n",
       "       [  87.76487173,   61.28889895,   20.45633964],\n",
       "       [  89.43656495,   38.71208731,   19.29538974],\n",
       "       [  78.54062756,   42.75262378,   18.33889311],\n",
       "       [ 117.30815259,   56.23571209,   19.47782037],\n",
       "       [  53.96922606,   64.37966464,   20.33870846],\n",
       "       [ 134.89623528,   52.74141843,   21.3472462 ],\n",
       "       [  84.77586198,   44.95530985,   19.34559679],\n",
       "       [ 106.38078192,   61.06670996,   19.38940171],\n",
       "       [  95.01259249,   56.93304105,   21.04973066]])"
      ]
     },
     "execution_count": 422,
     "metadata": {},
     "output_type": "execute_result"
    }
   ],
   "source": [
    "# First 20 rows of Xa\n",
    "Xa[:10,:]"
   ]
  },
  {
   "cell_type": "code",
   "execution_count": 423,
   "metadata": {
    "ExecuteTime": {
     "end_time": "2017-08-24T13:26:47.926155Z",
     "start_time": "2017-08-24T13:26:47.921096Z"
    },
    "collapsed": false
   },
   "outputs": [
    {
     "data": {
      "text/plain": [
       "array([ True, False, False, False, False,  True, False, False, False, False], dtype=bool)"
      ]
     },
     "execution_count": 423,
     "metadata": {},
     "output_type": "execute_result"
    }
   ],
   "source": [
    "# First 20 values of isHot\n",
    "isHot[0:10]"
   ]
  },
  {
   "cell_type": "code",
   "execution_count": 424,
   "metadata": {
    "ExecuteTime": {
     "end_time": "2017-08-24T13:26:49.397424Z",
     "start_time": "2017-08-24T13:26:49.392325Z"
    },
    "collapsed": false,
    "editable": true
   },
   "outputs": [
    {
     "data": {
      "text/plain": [
       "array([[ 179.46723899,   63.87688497,   30.96479559],\n",
       "       [ 113.77377184,   79.45171079,   26.5185247 ],\n",
       "       [ 103.60459385,   44.84463469,   22.35205498],\n",
       "       [ 106.9957935 ,   58.24184308,   24.98304994],\n",
       "       [ 148.4574833 ,   71.16821895,   24.64984853],\n",
       "       [  80.08885117,  113.38105563,   35.81914022],\n",
       "       [ 152.77434434,   59.7313602 ,   24.17644595],\n",
       "       [ 117.21751021,   62.15860705,   26.74868337],\n",
       "       [ 139.70174394,   80.19423926,   25.46261819],\n",
       "       [ 124.77400387,   74.76654723,   27.6432745 ]])"
      ]
     },
     "execution_count": 424,
     "metadata": {},
     "output_type": "execute_result"
    }
   ],
   "source": [
    "# First 20 rows of Xb\n",
    "Xb[:10,:]"
   ]
  },
  {
   "cell_type": "markdown",
   "metadata": {},
   "source": [
    "### We assume our popularity score is a function with the below form"
   ]
  },
  {
   "cell_type": "code",
   "execution_count": 425,
   "metadata": {
    "ExecuteTime": {
     "end_time": "2017-08-24T13:26:55.831486Z",
     "start_time": "2017-08-24T13:26:55.828335Z"
    },
    "collapsed": false,
    "editable": true
   },
   "outputs": [],
   "source": [
    "def popularity(v, b0, b1, b2, b3, b4):\n",
    "    return b0*v[0] + b1*v[1] + b2*v[2] + b3*(v[1]**2) + b4*(v[2]**2)"
   ]
  },
  {
   "cell_type": "markdown",
   "metadata": {},
   "source": [
    "### Let's assume that the True weights of the popularity score is as specified below"
   ]
  },
  {
   "cell_type": "code",
   "execution_count": 438,
   "metadata": {
    "ExecuteTime": {
     "end_time": "2017-08-24T13:28:00.181345Z",
     "start_time": "2017-08-24T13:28:00.177951Z"
    },
    "collapsed": true,
    "editable": true
   },
   "outputs": [],
   "source": [
    "def truePop(v):\n",
    "    return popularity(v, 1, 2, 2, 0.5, 0.5)"
   ]
  },
  {
   "cell_type": "markdown",
   "metadata": {},
   "source": [
    "### Based on the \"true popularity score\", what will be the slope of our raw data between t0 and t1?"
   ]
  },
  {
   "cell_type": "code",
   "execution_count": 439,
   "metadata": {
    "ExecuteTime": {
     "end_time": "2017-08-24T13:28:01.589927Z",
     "start_time": "2017-08-24T13:28:01.532763Z"
    },
    "collapsed": false,
    "editable": true
   },
   "outputs": [],
   "source": [
    "popXa = np.apply_along_axis(truePop, 1, Xa)\n",
    "popXb = np.apply_along_axis(truePop, 1, Xb)\n",
    "popSlope = popXb / popXa"
   ]
  },
  {
   "cell_type": "code",
   "execution_count": 440,
   "metadata": {
    "ExecuteTime": {
     "end_time": "2017-08-24T13:28:03.928131Z",
     "start_time": "2017-08-24T13:28:03.923557Z"
    },
    "collapsed": false,
    "editable": true
   },
   "outputs": [
    {
     "data": {
      "text/plain": [
       "array([ 3.8349723 ,  2.17668115,  1.55202286,  2.52270717,  2.02464776,\n",
       "        5.45619076,  1.45146503,  2.63792657,  2.26256802,  2.26233727])"
      ]
     },
     "execution_count": 440,
     "metadata": {},
     "output_type": "execute_result"
    }
   ],
   "source": [
    "# Inspect\n",
    "popSlope[0:10]"
   ]
  },
  {
   "cell_type": "markdown",
   "metadata": {
    "collapsed": true,
    "editable": true
   },
   "source": [
    "### Assume that the True cutoff point is at the 90-th percentile.  Based on that, we can generate our true labels."
   ]
  },
  {
   "cell_type": "code",
   "execution_count": 441,
   "metadata": {
    "ExecuteTime": {
     "end_time": "2017-08-24T13:28:08.381285Z",
     "start_time": "2017-08-24T13:28:08.377382Z"
    },
    "collapsed": false,
    "editable": true
   },
   "outputs": [],
   "source": [
    "# Assume that the true cutoff point for being considered as popular is the 90-th percentile\n",
    "trueBoundary = 90\n",
    "boundary = np.percentile(popSlope, [trueBoundary])[0]"
   ]
  },
  {
   "cell_type": "code",
   "execution_count": 442,
   "metadata": {
    "ExecuteTime": {
     "end_time": "2017-08-24T13:28:09.324171Z",
     "start_time": "2017-08-24T13:28:09.320909Z"
    },
    "collapsed": false,
    "editable": true
   },
   "outputs": [],
   "source": [
    "trueY = popSlope >= boundary"
   ]
  },
  {
   "cell_type": "code",
   "execution_count": 443,
   "metadata": {
    "ExecuteTime": {
     "end_time": "2017-08-24T13:28:09.675169Z",
     "start_time": "2017-08-24T13:28:09.670535Z"
    },
    "collapsed": false,
    "editable": true
   },
   "outputs": [
    {
     "data": {
      "text/plain": [
       "array([ True, False, False, False, False,  True, False, False, False, False], dtype=bool)"
      ]
     },
     "execution_count": 443,
     "metadata": {},
     "output_type": "execute_result"
    }
   ],
   "source": [
    "# Inspect\n",
    "trueY[:10]"
   ]
  },
  {
   "cell_type": "code",
   "execution_count": 444,
   "metadata": {
    "ExecuteTime": {
     "end_time": "2017-08-24T13:28:10.180803Z",
     "start_time": "2017-08-24T13:28:10.175757Z"
    },
    "collapsed": false,
    "editable": true
   },
   "outputs": [
    {
     "data": {
      "text/plain": [
       "0.93999999999999995"
      ]
     },
     "execution_count": 444,
     "metadata": {},
     "output_type": "execute_result"
    }
   ],
   "source": [
    "# trueY and iHot should be very close\n",
    "np.mean(trueY == isHot)"
   ]
  },
  {
   "cell_type": "markdown",
   "metadata": {},
   "source": [
    "### Now we define the loss function we want to optimize.  We try two loss functions, one based on f1-score, and the other based on accuracy."
   ]
  },
  {
   "cell_type": "code",
   "execution_count": 445,
   "metadata": {
    "ExecuteTime": {
     "end_time": "2017-08-24T13:28:11.690751Z",
     "start_time": "2017-08-24T13:28:11.672071Z"
    },
    "collapsed": false,
    "editable": true
   },
   "outputs": [],
   "source": [
    "from sklearn.metrics import f1_score, accuracy_score\n",
    "\n",
    "def lossBase(B):\n",
    "    global Xa, Xb\n",
    "    popXa = np.apply_along_axis(popularity, 1, Xa, B[0], B[1], B[2], B[3], B[4])\n",
    "    popXb = np.apply_along_axis(popularity, 1, Xb, B[0], B[1], B[2], B[3], B[4])\n",
    "    popSlope = popXb / popXa\n",
    "\n",
    "    p = B[5]\n",
    "    if p < 0:\n",
    "        p = 0\n",
    "        \n",
    "    if p > 100:\n",
    "        p = 100\n",
    "        \n",
    "    boundary = np.percentile(popSlope, [p])[0]\n",
    "    y = popSlope >= boundary\n",
    "    return y\n",
    "\n",
    "# f1-score based loss function\n",
    "def loss(B):\n",
    "    # f1_score returns 1 for the best result\n",
    "    return 1 - f1_score(trueY, lossBase(B))\n",
    "\n",
    "# accuracy based loss function\n",
    "def loss_acc(B):\n",
    "    # accuracy_score returns 1 if everything matches\n",
    "    return 1 - accuracy_score(trueY, lossBase(B))\n",
    "                "
   ]
  },
  {
   "cell_type": "code",
   "execution_count": 447,
   "metadata": {
    "ExecuteTime": {
     "end_time": "2017-08-24T13:28:22.375628Z",
     "start_time": "2017-08-24T13:28:22.309490Z"
    },
    "collapsed": false,
    "editable": true
   },
   "outputs": [
    {
     "data": {
      "text/plain": [
       "0.0"
      ]
     },
     "execution_count": 447,
     "metadata": {},
     "output_type": "execute_result"
    }
   ],
   "source": [
    "loss([1,2,2,0.5,0.5,90])"
   ]
  },
  {
   "cell_type": "code",
   "execution_count": 448,
   "metadata": {
    "ExecuteTime": {
     "end_time": "2017-08-24T13:28:24.982917Z",
     "start_time": "2017-08-24T13:28:24.920660Z"
    },
    "collapsed": false,
    "editable": true
   },
   "outputs": [
    {
     "data": {
      "text/plain": [
       "0.19999999999999996"
      ]
     },
     "execution_count": 448,
     "metadata": {},
     "output_type": "execute_result"
    }
   ],
   "source": [
    "loss([1,2,2,3,3,85])"
   ]
  },
  {
   "cell_type": "code",
   "execution_count": 449,
   "metadata": {
    "ExecuteTime": {
     "end_time": "2017-08-24T13:28:27.473441Z",
     "start_time": "2017-08-24T13:28:27.408741Z"
    },
    "collapsed": false
   },
   "outputs": [
    {
     "data": {
      "text/plain": [
       "0.35399999999999998"
      ]
     },
     "execution_count": 449,
     "metadata": {},
     "output_type": "execute_result"
    }
   ],
   "source": [
    "loss([1,1,1,0,0,90])"
   ]
  },
  {
   "cell_type": "code",
   "execution_count": 451,
   "metadata": {
    "ExecuteTime": {
     "end_time": "2017-08-24T13:28:56.004638Z",
     "start_time": "2017-08-24T13:28:55.943083Z"
    },
    "collapsed": false
   },
   "outputs": [
    {
     "data": {
      "text/plain": [
       "0.0020000000000000018"
      ]
     },
     "execution_count": 451,
     "metadata": {},
     "output_type": "execute_result"
    }
   ],
   "source": [
    "loss([1,1,1,1,1,90])"
   ]
  },
  {
   "cell_type": "code",
   "execution_count": 450,
   "metadata": {
    "ExecuteTime": {
     "end_time": "2017-08-24T13:28:37.797132Z",
     "start_time": "2017-08-24T13:28:37.735798Z"
    },
    "collapsed": false
   },
   "outputs": [
    {
     "data": {
      "text/plain": [
       "0.23199999999999998"
      ]
     },
     "execution_count": 450,
     "metadata": {},
     "output_type": "execute_result"
    }
   ],
   "source": [
    "loss([1,2,2,0,0,90])"
   ]
  },
  {
   "cell_type": "markdown",
   "metadata": {
    "editable": true
   },
   "source": [
    "## Use PSO\n",
    "\n",
    "http://pythonhosted.org/pyswarm/\n",
    "\n",
    "http://mnemstudio.org/particle-swarm-introduction.htm"
   ]
  },
  {
   "cell_type": "code",
   "execution_count": 452,
   "metadata": {
    "ExecuteTime": {
     "end_time": "2017-08-24T13:28:59.319845Z",
     "start_time": "2017-08-24T13:28:59.317152Z"
    },
    "collapsed": false,
    "editable": true
   },
   "outputs": [],
   "source": [
    "from pyswarm import pso\n"
   ]
  },
  {
   "cell_type": "code",
   "execution_count": 453,
   "metadata": {
    "ExecuteTime": {
     "end_time": "2017-08-24T13:29:22.160565Z",
     "start_time": "2017-08-24T13:29:22.157134Z"
    },
    "collapsed": true,
    "editable": true
   },
   "outputs": [],
   "source": [
    "lb = [1,0,0,0,0, 50]\n",
    "ub = [1.1,10,10,10,10, 100]"
   ]
  },
  {
   "cell_type": "code",
   "execution_count": 454,
   "metadata": {
    "ExecuteTime": {
     "end_time": "2017-08-24T13:30:35.676463Z",
     "start_time": "2017-08-24T13:29:22.962127Z"
    },
    "collapsed": false,
    "editable": true
   },
   "outputs": [
    {
     "name": "stdout",
     "output_type": "stream",
     "text": [
      "Stopping search: maximum iterations reached --> 15\n"
     ]
    }
   ],
   "source": [
    "xopt, fopt = pso(loss, lb, ub, maxiter=15)"
   ]
  },
  {
   "cell_type": "code",
   "execution_count": 455,
   "metadata": {
    "ExecuteTime": {
     "end_time": "2017-08-24T13:30:53.846881Z",
     "start_time": "2017-08-24T13:30:53.840192Z"
    },
    "collapsed": false,
    "editable": true
   },
   "outputs": [
    {
     "name": "stdout",
     "output_type": "stream",
     "text": [
      "[  1.03127635   3.7354408    3.5642359    0.7486199    2.11695929\n",
      "  89.9790525 ]\n",
      "0.000999000999001\n"
     ]
    }
   ],
   "source": [
    "print xopt\n",
    "print fopt"
   ]
  },
  {
   "cell_type": "code",
   "execution_count": 456,
   "metadata": {
    "ExecuteTime": {
     "end_time": "2017-08-24T13:32:26.909325Z",
     "start_time": "2017-08-24T13:31:15.834272Z"
    },
    "collapsed": false,
    "editable": true
   },
   "outputs": [
    {
     "name": "stdout",
     "output_type": "stream",
     "text": [
      "Stopping search: maximum iterations reached --> 15\n"
     ]
    }
   ],
   "source": [
    "xopt2, fopt2 = pso(loss_acc, lb, ub, maxiter=15)"
   ]
  },
  {
   "cell_type": "code",
   "execution_count": 457,
   "metadata": {
    "ExecuteTime": {
     "end_time": "2017-08-24T13:32:26.916785Z",
     "start_time": "2017-08-24T13:32:26.911036Z"
    },
    "collapsed": false,
    "editable": true
   },
   "outputs": [
    {
     "name": "stdout",
     "output_type": "stream",
     "text": [
      "[  1.01142342   6.3756275    2.04653676   0.73864037   0.55005288\n",
      "  90.00398128]\n",
      "0.0\n"
     ]
    }
   ],
   "source": [
    "print xopt2\n",
    "print fopt2"
   ]
  },
  {
   "cell_type": "markdown",
   "metadata": {
    "editable": true
   },
   "source": [
    "## Use skopt\n",
    "\n",
    "https://scikit-optimize.github.io/"
   ]
  },
  {
   "cell_type": "code",
   "execution_count": 458,
   "metadata": {
    "ExecuteTime": {
     "end_time": "2017-08-24T13:32:26.923095Z",
     "start_time": "2017-08-24T13:32:26.918200Z"
    },
    "collapsed": true,
    "editable": true
   },
   "outputs": [],
   "source": [
    "from skopt import gp_minimize, forest_minimize, gbrt_minimize\n",
    "from skopt.plots import plot_convergence\n",
    "\n",
    "B0 = [[1., 1.1], [0, 10.], [0, 10.], [0, 10.], [0, 10.], [50., 100.]]\n",
    "X0 = [1., 0., 0., 0., 0., 50.]"
   ]
  },
  {
   "cell_type": "code",
   "execution_count": 459,
   "metadata": {
    "ExecuteTime": {
     "end_time": "2017-08-24T13:34:20.152696Z",
     "start_time": "2017-08-24T13:32:27.103307Z"
    },
    "collapsed": false,
    "editable": true
   },
   "outputs": [
    {
     "name": "stdout",
     "output_type": "stream",
     "text": [
      "[1.0380545663017617, 0, 7, 3, 10, 90.008192020503216]\n",
      "0.002\n"
     ]
    }
   ],
   "source": [
    "res = gp_minimize(loss, B0, x0=X0)\n",
    "print res.x\n",
    "print res.fun"
   ]
  },
  {
   "cell_type": "code",
   "execution_count": 460,
   "metadata": {
    "ExecuteTime": {
     "end_time": "2017-08-24T13:34:20.563285Z",
     "start_time": "2017-08-24T13:34:20.154521Z"
    },
    "collapsed": false,
    "editable": true
   },
   "outputs": [
    {
     "data": {
      "text/plain": [
       "<matplotlib.axes._subplots.AxesSubplot at 0x10fab9850>"
      ]
     },
     "execution_count": 460,
     "metadata": {},
     "output_type": "execute_result"
    },
    {
     "data": {
      "image/png": "[encoded data removed]",
      "text/plain": [
       "<matplotlib.figure.Figure at 0x10fc3e410>"
      ]
     },
     "metadata": {},
     "output_type": "display_data"
    }
   ],
   "source": [
    "plot_convergence(res)"
   ]
  },
  {
   "cell_type": "code",
   "execution_count": 461,
   "metadata": {
    "ExecuteTime": {
     "end_time": "2017-08-24T13:36:03.944125Z",
     "start_time": "2017-08-24T13:34:20.564944Z"
    },
    "collapsed": false,
    "editable": true
   },
   "outputs": [
    {
     "name": "stdout",
     "output_type": "stream",
     "text": [
      "[1.1000000000000001, 10, 7, 4, 8, 89.973657310101743]\n",
      "0.0004\n"
     ]
    }
   ],
   "source": [
    "res2 = gp_minimize(loss_acc, B0, x0=X0)\n",
    "print res2.x\n",
    "print res2.fun"
   ]
  },
  {
   "cell_type": "code",
   "execution_count": 462,
   "metadata": {
    "ExecuteTime": {
     "end_time": "2017-08-24T13:36:04.288564Z",
     "start_time": "2017-08-24T13:36:03.945947Z"
    },
    "collapsed": false,
    "editable": true
   },
   "outputs": [
    {
     "data": {
      "text/plain": [
       "<matplotlib.axes._subplots.AxesSubplot at 0x10fa66190>"
      ]
     },
     "execution_count": 462,
     "metadata": {},
     "output_type": "execute_result"
    },
    {
     "data": {
      "image/png": "[encoded data removed]",
      "text/plain": [
       "<matplotlib.figure.Figure at 0x10d319bd0>"
      ]
     },
     "metadata": {},
     "output_type": "display_data"
    }
   ],
   "source": [
    "plot_convergence(res2)"
   ]
  },
  {
   "cell_type": "code",
   "execution_count": 463,
   "metadata": {
    "ExecuteTime": {
     "end_time": "2017-08-24T13:37:01.746451Z",
     "start_time": "2017-08-24T13:36:04.290234Z"
    },
    "collapsed": false,
    "editable": true
   },
   "outputs": [
    {
     "name": "stdout",
     "output_type": "stream",
     "text": [
      "[1.0639569359223422, 6, 7, 6, 8, 89.98027399937952]\n",
      "0.0006\n"
     ]
    }
   ],
   "source": [
    "res3 = forest_minimize(loss_acc, dimensions=B0, x0=X0)\n",
    "print res3.x\n",
    "print res3.fun"
   ]
  },
  {
   "cell_type": "code",
   "execution_count": 464,
   "metadata": {
    "ExecuteTime": {
     "end_time": "2017-08-24T13:37:02.072955Z",
     "start_time": "2017-08-24T13:37:01.748090Z"
    },
    "collapsed": false,
    "editable": true
   },
   "outputs": [
    {
     "data": {
      "text/plain": [
       "<matplotlib.axes._subplots.AxesSubplot at 0x105f00650>"
      ]
     },
     "execution_count": 464,
     "metadata": {},
     "output_type": "execute_result"
    },
    {
     "data": {
      "image/png": "[encoded data removed]",
      "text/plain": [
       "<matplotlib.figure.Figure at 0x10fc13110>"
      ]
     },
     "metadata": {},
     "output_type": "display_data"
    }
   ],
   "source": [
    "plot_convergence(res3)"
   ]
  },
  {
   "cell_type": "code",
   "execution_count": 465,
   "metadata": {
    "ExecuteTime": {
     "end_time": "2017-08-24T13:37:57.148600Z",
     "start_time": "2017-08-24T13:37:02.074994Z"
    },
    "collapsed": false,
    "editable": true
   },
   "outputs": [
    {
     "name": "stdout",
     "output_type": "stream",
     "text": [
      "[1.0462316645209191, 3, 9, 3, 5, 90.036928006304151]\n",
      "0.0006\n"
     ]
    }
   ],
   "source": [
    "res4 = forest_minimize(loss_acc, dimensions=B0, x0=X0, base_estimator=\"RF\")\n",
    "print res4.x\n",
    "print res4.fun"
   ]
  },
  {
   "cell_type": "code",
   "execution_count": 466,
   "metadata": {
    "ExecuteTime": {
     "end_time": "2017-08-24T13:37:57.448871Z",
     "start_time": "2017-08-24T13:37:57.150342Z"
    },
    "collapsed": false,
    "editable": true
   },
   "outputs": [
    {
     "data": {
      "text/plain": [
       "<matplotlib.axes._subplots.AxesSubplot at 0x10d47b3d0>"
      ]
     },
     "execution_count": 466,
     "metadata": {},
     "output_type": "execute_result"
    },
    {
     "data": {
      "image/png": "[encoded data removed]",
      "text/plain": [
       "<matplotlib.figure.Figure at 0x1105a3f90>"
      ]
     },
     "metadata": {},
     "output_type": "display_data"
    }
   ],
   "source": [
    "plot_convergence(res4)"
   ]
  },
  {
   "cell_type": "code",
   "execution_count": 467,
   "metadata": {
    "ExecuteTime": {
     "end_time": "2017-08-24T13:38:22.039449Z",
     "start_time": "2017-08-24T13:37:57.450577Z"
    },
    "collapsed": false,
    "editable": true
   },
   "outputs": [
    {
     "name": "stdout",
     "output_type": "stream",
     "text": [
      "[1.0983946138710239, 9, 8, 5, 4, 90.010482952709879]\n",
      "0.0004\n"
     ]
    }
   ],
   "source": [
    "res5 = gbrt_minimize(loss_acc, dimensions=B0, x0=X0)\n",
    "print res5.x\n",
    "print res5.fun"
   ]
  },
  {
   "cell_type": "code",
   "execution_count": 468,
   "metadata": {
    "ExecuteTime": {
     "end_time": "2017-08-24T13:38:22.360312Z",
     "start_time": "2017-08-24T13:38:22.041101Z"
    },
    "collapsed": false,
    "editable": true
   },
   "outputs": [
    {
     "data": {
      "text/plain": [
       "<matplotlib.axes._subplots.AxesSubplot at 0x10b06da50>"
      ]
     },
     "execution_count": 468,
     "metadata": {},
     "output_type": "execute_result"
    },
    {
     "data": {
      "image/png": "[encoded data removed]",
      "text/plain": [
       "<matplotlib.figure.Figure at 0x10fc8a190>"
      ]
     },
     "metadata": {},
     "output_type": "display_data"
    }
   ],
   "source": [
    "plot_convergence(res5)"
   ]
  },
  {
   "cell_type": "code",
   "execution_count": null,
   "metadata": {
    "collapsed": true,
    "editable": true
   },
   "outputs": [],
   "source": []
  }
 ],
 "metadata": {
  "kernelspec": {
   "display_name": "Python 2",
   "language": "python",
   "name": "python2"
  },
  "language_info": {
   "codemirror_mode": {
    "name": "ipython",
    "version": 2
   },
   "file_extension": ".py",
   "mimetype": "text/x-python",
   "name": "python",
   "nbconvert_exporter": "python",
   "pygments_lexer": "ipython2",
   "version": "2.7.11"
  }
 },
 "nbformat": 4,
 "nbformat_minor": 2
}
