{
 "cells": [
  {
   "cell_type": "markdown",
   "metadata": {},
   "source": [
    "# Study notes about Multi-Model Recommender\n",
    "\n",
    "Assume we have 5 users and 6 products.\n",
    "\n",
    "Matrix A will be the purchase history matrix"
   ]
  },
  {
   "cell_type": "code",
   "execution_count": 152,
   "metadata": {
    "collapsed": false
   },
   "outputs": [],
   "source": [
    "import numpy as np"
   ]
  },
  {
   "cell_type": "markdown",
   "metadata": {},
   "source": [
    "## Co-occurrence matrix\n",
    "\n",
    "A'A is the co-occurence matrix. It is an items x items matrix.  Each value represents the number of times two items co-occur (ignore the diagnoal values)\n",
    "\n",
    "Examples:\n",
    "- item 1 and item 3 co-occur twice (in user1 and user2)\n",
    "- item 2 and item 4 co-occur twice (in user3 and user5)"
   ]
  },
  {
   "cell_type": "code",
   "execution_count": 153,
   "metadata": {
    "collapsed": false
   },
   "outputs": [
    {
     "name": "stdout",
     "output_type": "stream",
     "text": [
      "Purchase History:\n",
      "[[1 0 1 0 0 0]\n",
      " [1 0 1 0 1 0]\n",
      " [0 1 1 1 0 0]\n",
      " [0 1 0 1 0 1]\n",
      " [0 0 0 0 0 0]] \n",
      "\n",
      "Co-occurrence Matrix:\n",
      "[[0 0 2 0 1 0]\n",
      " [0 0 1 2 0 1]\n",
      " [2 1 0 1 1 0]\n",
      " [0 2 1 0 0 1]\n",
      " [1 0 1 0 0 0]\n",
      " [0 1 0 1 0 0]] \n",
      "\n"
     ]
    }
   ],
   "source": [
    "A = np.matrix([[1,0,1,0,0,0], [1,0,1,0,1,0], [0,1,1,1,0,0], [0,1,0,1,0,1], [0,0,0,0,0,0]]) # History of purchase\n",
    "print \"Purchase History:\\n\", A, \"\\n\"\n",
    "\n",
    "AtA = A.transpose() * A\n",
    "np.fill_diagonal(AtA, 0) # Fill the diagnonal with zeros, as they should be ignored.\n",
    "print \"Co-occurrence Matrix:\\n\", AtA, \"\\n\""
   ]
  },
  {
   "cell_type": "markdown",
   "metadata": {},
   "source": [
    "**Simple user-centric recommendation**\n",
    "\n",
    "( **Note**: all LLR analysis are skipped in order to keep things simple here. )\n",
    "\n",
    "If a user is viewing item 1, what should we recommend?"
   ]
  },
  {
   "cell_type": "code",
   "execution_count": 154,
   "metadata": {
    "collapsed": false
   },
   "outputs": [
    {
     "name": "stdout",
     "output_type": "stream",
     "text": [
      "[[0 0 2 0 1 0]]\n"
     ]
    }
   ],
   "source": [
    "h = np.matrix([1,0,0,0,0,0])\n",
    "r = h * AtA  # Note: AtA * h' will produce the same result\n",
    "print r"
   ]
  },
  {
   "cell_type": "markdown",
   "metadata": {},
   "source": [
    "The above result tells us that we should recommend item 3, and then item 5.  It's based on the co-occurrence matrix:\n",
    "- Two people who purchased item 1 also purchased item 3.\n",
    "- One person who purchased item 1 also purchased item 5\n",
    "\n",
    "This is similar to the \"people who purchased this also purchase\" list."
   ]
  },
  {
   "cell_type": "markdown",
   "metadata": {},
   "source": [
    "Now let's say a user comes in, and in her history she has purchased item 1 and item 2 in the past.  What should we recommend?"
   ]
  },
  {
   "cell_type": "code",
   "execution_count": 155,
   "metadata": {
    "collapsed": false
   },
   "outputs": [
    {
     "name": "stdout",
     "output_type": "stream",
     "text": [
      "Purchase History:\n",
      "[[1 0 1 0 0 0]\n",
      " [1 0 1 0 1 0]\n",
      " [0 1 1 1 0 0]\n",
      " [0 1 0 1 0 1]\n",
      " [0 0 0 0 0 0]] \n",
      "\n",
      "History: item 1 and item 2; recommendation:\n",
      "[[0 0 3 2 1 1]]\n"
     ]
    }
   ],
   "source": [
    "print \"Purchase History:\\n\", A, \"\\n\"\n",
    "p = np.matrix([1,1,0,0,0,0])\n",
    "print \"History: item 1 and item 2; recommendation:\\n\", p * AtA "
   ]
  },
  {
   "cell_type": "markdown",
   "metadata": {},
   "source": [
    "Based on the result, we should recommend item 3, 4 and 5 (in that order).\n",
    "\n",
    "Try one more time with user's history = item 1 and item 5."
   ]
  },
  {
   "cell_type": "code",
   "execution_count": 156,
   "metadata": {
    "collapsed": false
   },
   "outputs": [
    {
     "name": "stdout",
     "output_type": "stream",
     "text": [
      "Purchase History:\n",
      "[[1 0 1 0 0 0]\n",
      " [1 0 1 0 1 0]\n",
      " [0 1 1 1 0 0]\n",
      " [0 1 0 1 0 1]\n",
      " [0 0 0 0 0 0]] \n",
      "\n",
      "History: item 1 and item 5; recommendation:\n",
      "[[1 0 3 0 1 0]]\n"
     ]
    }
   ],
   "source": [
    "print \"Purchase History:\\n\", A, \"\\n\"\n",
    "p = np.matrix([1,0,0,0,1,0])\n",
    "print \"History: item 1 and item 5; recommendation:\\n\", p * AtA "
   ]
  },
  {
   "cell_type": "markdown",
   "metadata": {},
   "source": [
    "###Sidetrack: Vector multiplication and kNN using [cosine distance][1]\n",
    "[1]: http://docs.scipy.org/doc/scipy-0.16.0/reference/generated/scipy.spatial.distance.cosine.html \"Cosine Distance\""
   ]
  },
  {
   "cell_type": "code",
   "execution_count": 157,
   "metadata": {
    "collapsed": false
   },
   "outputs": [
    {
     "name": "stdout",
     "output_type": "stream",
     "text": [
      "Co-occurrence Matrix:\n",
      "[[0 0 2 0 1 0]\n",
      " [0 0 1 2 0 1]\n",
      " [2 1 0 1 1 0]\n",
      " [0 2 1 0 0 1]\n",
      " [1 0 1 0 0 0]\n",
      " [0 1 0 1 0 0]] \n",
      "\n",
      "A user's purchase history: [[1 0 0 0 1 0]] \n",
      "\n",
      "Item 1 - cosine distance with p = 0.683772233983\n",
      "Item 2 - cosine distance with p = 1.0\n",
      "Item 3 - cosine distance with p = 0.198216274263\n",
      "Item 4 - cosine distance with p = 1.0\n",
      "Item 5 - cosine distance with p = 0.5\n",
      "Item 6 - cosine distance with p = 1.0\n"
     ]
    }
   ],
   "source": [
    "print \"Co-occurrence Matrix:\\n\", AtA, \"\\n\"\n",
    "print \"A user's purchase history:\", p, \"\\n\"\n",
    "\n",
    "from scipy.spatial import distance\n",
    "for r in range(6):\n",
    "    dist = distance.cosine(p, AtA[r])\n",
    "    print \"Item\", r + 1, \"- cosine distance with p =\", dist"
   ]
  },
  {
   "cell_type": "markdown",
   "metadata": {},
   "source": [
    "Based on nearest neighbour, the closest items are 3, 5, and 1.  That matches our earlier results."
   ]
  },
  {
   "cell_type": "markdown",
   "metadata": {},
   "source": [
    "##Cross Co-occurrence##\n",
    "\n",
    "In addition to purchase history, we also have Bookmark history of the 6 products."
   ]
  },
  {
   "cell_type": "markdown",
   "metadata": {},
   "source": [
    "*Recommend a purchase based on bookmark history*"
   ]
  },
  {
   "cell_type": "code",
   "execution_count": 158,
   "metadata": {
    "collapsed": false
   },
   "outputs": [
    {
     "name": "stdout",
     "output_type": "stream",
     "text": [
      "Purchase History:\n",
      "[[1 0 1 0 0 0]\n",
      " [1 0 1 0 1 0]\n",
      " [0 1 1 1 0 0]\n",
      " [0 1 0 1 0 1]\n",
      " [0 0 0 0 0 0]] \n",
      "\n",
      "Bookmark History:\n",
      "[[0 0 0 1 0 0]\n",
      " [0 0 0 1 0 0]\n",
      " [0 1 0 0 0 0]\n",
      " [0 1 0 0 0 0]\n",
      " [1 0 0 0 1 1]] \n",
      "\n",
      "Bookmark: 4  - [[2 0 2 0 1 0]]\n",
      "Bookmark: 2  - [[0 2 1 2 0 1]]\n",
      "Bookmark: 1  - [[0 0 0 0 0 0]]\n",
      "Bookmark: 6  - [[0 0 0 0 0 0]]\n",
      "Bookmark: 1&2- [[0 2 1 2 0 1]]\n"
     ]
    }
   ],
   "source": [
    "print \"Purchase History:\\n\", A, \"\\n\"\n",
    "\n",
    "B = np.matrix([[0,0,0,1,0,0], [0,0,0,1,0,0], [0,1,0,0,0,0], [0,1,0,0,0,0], [1,0,0,0,1,1]]) # History of bookmark\n",
    "print \"Bookmark History:\\n\", B, \"\\n\"\n",
    "BtA = B.transpose() * A\n",
    "\n",
    "print \"Bookmark: 4  -\", np.matrix([0,0,0,1,0,0]) * BtA\n",
    "print \"Bookmark: 2  -\",  np.matrix([0,1,0,0,0,0]) * BtA\n",
    "print \"Bookmark: 1  -\",  np.matrix([1,0,0,0,0,0]) * BtA\n",
    "print \"Bookmark: 6  -\",  np.matrix([0,0,0,0,0,1]) * BtA\n",
    "print \"Bookmark: 1&2-\",  np.matrix([1,1,0,0,0,0]) * BtA"
   ]
  },
  {
   "cell_type": "markdown",
   "metadata": {},
   "source": [
    "Please note that in the last three cases, only user 5 have bookmarked items 1 and 5. But since he hasn't purchased any item, so we **cannot** correlate those two bookmarks to any purchase, and thus they have **no** effect on the recommendation. "
   ]
  },
  {
   "cell_type": "markdown",
   "metadata": {},
   "source": [
    "###Recommend a purchase based on both purchase history and bookmark history"
   ]
  },
  {
   "cell_type": "code",
   "execution_count": 159,
   "metadata": {
    "collapsed": false
   },
   "outputs": [
    {
     "name": "stdout",
     "output_type": "stream",
     "text": [
      "Purchase History:\n",
      "[[1 0 1 0 0 0]\n",
      " [1 0 1 0 1 0]\n",
      " [0 1 1 1 0 0]\n",
      " [0 1 0 1 0 1]\n",
      " [0 0 0 0 0 0]] \n",
      "\n",
      "Bookmark History:\n",
      "[[0 0 0 1 0 0]\n",
      " [0 0 0 1 0 0]\n",
      " [0 1 0 0 0 0]\n",
      " [0 1 0 0 0 0]\n",
      " [1 0 0 0 1 1]] \n",
      "\n",
      "A user's purchase: [[1 0 1 0 0 0]]\n",
      "Recommendations:   [[2 1 2 1 2 0]] \n",
      "\n",
      "A user's bookmark: [[0 1 0 0 0 0]]\n",
      "Recommendations:   [[0 2 1 2 0 1]] \n",
      "\n",
      "Combined:          [[2 3 3 3 2 1]] \n",
      "\n"
     ]
    }
   ],
   "source": [
    "print \"Purchase History:\\n\", A, \"\\n\"\n",
    "print \"Bookmark History:\\n\", B, \"\\n\"\n",
    "\n",
    "p = np.matrix([1,0,1,0,0,0])\n",
    "b = np.matrix([0,1,0,0,0,0])\n",
    "r = p*AtA + b*BtA\n",
    "\n",
    "print \"A user's purchase:\", p\n",
    "print \"Recommendations:  \", p*AtA, \"\\n\"\n",
    "print \"A user's bookmark:\", b\n",
    "print \"Recommendations:  \", b*BtA, \"\\n\"\n",
    "print \"Combined:         \", p*AtA + b*BtA, \"\\n\"\n"
   ]
  },
  {
   "cell_type": "markdown",
   "metadata": {},
   "source": [
    "###What if we have users' gender information?\n",
    "\n",
    "Let's say we have a new matrix, G, which record the gender information.  The columns represent Male and Female."
   ]
  },
  {
   "cell_type": "code",
   "execution_count": 160,
   "metadata": {
    "collapsed": false
   },
   "outputs": [
    {
     "name": "stdout",
     "output_type": "stream",
     "text": [
      "Purchase History:\n",
      "[[1 0 1 0 0 0]\n",
      " [1 0 1 0 1 0]\n",
      " [0 1 1 1 0 0]\n",
      " [0 1 0 1 0 1]\n",
      " [0 0 0 0 0 0]] \n",
      "\n",
      "Gender info:\n",
      "[[1 0]\n",
      " [0 1]\n",
      " [0 1]\n",
      " [1 0]\n",
      " [0 1]] \n",
      "\n"
     ]
    }
   ],
   "source": [
    "print \"Purchase History:\\n\", A, \"\\n\"\n",
    "G = np.matrix([[1,0], [0,1], [0,1], [1,0], [0,1]])\n",
    "print \"Gender info:\\n\", G, \"\\n\""
   ]
  },
  {
   "cell_type": "markdown",
   "metadata": {},
   "source": [
    "*For a female customer, what should we recommend?*"
   ]
  },
  {
   "cell_type": "code",
   "execution_count": 161,
   "metadata": {
    "collapsed": false
   },
   "outputs": [
    {
     "name": "stdout",
     "output_type": "stream",
     "text": [
      "For a female, we recommend:  [[1 1 2 1 1 0]]\n"
     ]
    }
   ],
   "source": [
    "GtA = G.transpose() * A\n",
    "g = np.matrix([0,1])\n",
    "print \"For a female, we recommend: \", g * GtA"
   ]
  },
  {
   "cell_type": "markdown",
   "metadata": {},
   "source": [
    "### Recommend based on purchase history, bookmark history and gender info"
   ]
  },
  {
   "cell_type": "code",
   "execution_count": 162,
   "metadata": {
    "collapsed": false
   },
   "outputs": [
    {
     "name": "stdout",
     "output_type": "stream",
     "text": [
      "Purchase History:\n",
      "[[1 0 1 0 0 0]\n",
      " [1 0 1 0 1 0]\n",
      " [0 1 1 1 0 0]\n",
      " [0 1 0 1 0 1]\n",
      " [0 0 0 0 0 0]] \n",
      "\n",
      "Bookmark History:\n",
      "[[0 0 0 1 0 0]\n",
      " [0 0 0 1 0 0]\n",
      " [0 1 0 0 0 0]\n",
      " [0 1 0 0 0 0]\n",
      " [1 0 0 0 1 1]] \n",
      "\n",
      "Gender info:\n",
      "[[1 0]\n",
      " [0 1]\n",
      " [0 1]\n",
      " [1 0]\n",
      " [0 1]] \n",
      "\n",
      "A user's purchase: [[1 0 1 0 0 0]]\n",
      "Recommendations:   [[2 1 2 1 2 0]] \n",
      "\n",
      "A user's bookmark: [[0 1 0 0 0 0]]\n",
      "Recommendations:   [[0 2 1 2 0 1]] \n",
      "\n",
      "A user's gender:   [[0 1]]\n",
      "Recommendations:   [[1 1 2 1 1 0]] \n",
      "\n",
      "Combined (two):    [[2 3 3 3 2 1]] \n",
      "\n",
      "Combined (all):    [[3 4 5 4 3 1]] \n",
      "\n"
     ]
    }
   ],
   "source": [
    "print \"Purchase History:\\n\", A, \"\\n\"\n",
    "print \"Bookmark History:\\n\", B, \"\\n\"\n",
    "print \"Gender info:\\n\", G, \"\\n\"\n",
    "print \"A user's purchase:\", p\n",
    "print \"Recommendations:  \", p*AtA, \"\\n\"\n",
    "print \"A user's bookmark:\", b\n",
    "print \"Recommendations:  \", b*BtA, \"\\n\"\n",
    "print \"A user's gender:  \", g\n",
    "print \"Recommendations:  \", g*GtA, \"\\n\"\n",
    "\n",
    "print \"Combined (two):   \", p*AtA + b*BtA, \"\\n\"\n",
    "print \"Combined (all):   \", p*AtA + b*BtA + g*GtA, \"\\n\"\n"
   ]
  },
  {
   "cell_type": "markdown",
   "metadata": {},
   "source": [
    "##Similar Items\n",
    "\n"
   ]
  },
  {
   "cell_type": "code",
   "execution_count": 163,
   "metadata": {
    "collapsed": false
   },
   "outputs": [
    {
     "name": "stdout",
     "output_type": "stream",
     "text": [
      "Purchase History:\n",
      "[[1 0 1 0 0 0]\n",
      " [1 0 1 0 1 0]\n",
      " [0 1 1 1 0 0]\n",
      " [0 1 0 1 0 1]\n",
      " [0 0 0 0 0 0]] \n",
      "\n",
      "Purchase co-occurrence:\n",
      "[[0 0 2 0 1 0]\n",
      " [0 0 1 2 0 1]\n",
      " [2 1 0 1 1 0]\n",
      " [0 2 1 0 0 1]\n",
      " [1 0 1 0 0 0]\n",
      " [0 1 0 1 0 0]] \n",
      "\n"
     ]
    }
   ],
   "source": [
    "print \"Purchase History:\\n\", A, \"\\n\"\n",
    "print \"Purchase co-occurrence:\\n\", AtA, \"\\n\""
   ]
  },
  {
   "cell_type": "markdown",
   "metadata": {},
   "source": [
    "Take item 4 as an example.  \n",
    "\n",
    "Its row in AtA is `[0 2 1 0 0 1]`.  So it occurs the most with item 2, and also with 3 and 6.  So items 2, 3 and 6 are similar to it (based on purchase history).  \n",
    "\n",
    "We can obtain the same result by multiplying AtA with an item vector."
   ]
  },
  {
   "cell_type": "code",
   "execution_count": 164,
   "metadata": {
    "collapsed": false
   },
   "outputs": [
    {
     "data": {
      "text/plain": [
       "matrix([[0, 2, 1, 0, 0, 1]])"
      ]
     },
     "execution_count": 164,
     "metadata": {},
     "output_type": "execute_result"
    }
   ],
   "source": [
    "i = np.matrix([0,0,0,1,0,0])\n",
    "i * AtA"
   ]
  },
  {
   "cell_type": "markdown",
   "metadata": {},
   "source": [
    "So i * AtA produces the \"similar item\" vector based on just the purchase history.\n",
    "\n",
    "What if we use both purchase history and bookmark history.  Please note that we cannot use gender, because it's a user's attribute, and we only have a product (i) here."
   ]
  },
  {
   "cell_type": "code",
   "execution_count": 165,
   "metadata": {
    "collapsed": false
   },
   "outputs": [
    {
     "name": "stdout",
     "output_type": "stream",
     "text": [
      "Purchase History:\n",
      "[[1 0 1 0 0 0]\n",
      " [1 0 1 0 1 0]\n",
      " [0 1 1 1 0 0]\n",
      " [0 1 0 1 0 1]\n",
      " [0 0 0 0 0 0]] \n",
      "\n",
      "Bookmark History:\n",
      "[[0 0 0 1 0 0]\n",
      " [0 0 0 1 0 0]\n",
      " [0 1 0 0 0 0]\n",
      " [0 1 0 0 0 0]\n",
      " [1 0 0 0 1 1]] \n",
      "\n",
      "Items similar to 4, based on purchase:\n",
      "[[0 2 1 0 0 1]] \n",
      "\n",
      "Items similar to 4, based on purchase and bookmarks:\n",
      "[[2 2 3 0 1 1]] \n",
      "\n"
     ]
    }
   ],
   "source": [
    "print \"Purchase History:\\n\", A, \"\\n\"\n",
    "print \"Bookmark History:\\n\", B, \"\\n\"\n",
    "print \"Items similar to 4, based on purchase:\\n\", i * AtA, \"\\n\"\n",
    "print \"Items similar to 4, based on purchase and bookmarks:\\n\", i * AtA + i * BtA, \"\\n\"\n"
   ]
  },
  {
   "cell_type": "code",
   "execution_count": null,
   "metadata": {
    "collapsed": true
   },
   "outputs": [],
   "source": []
  },
  {
   "cell_type": "code",
   "execution_count": null,
   "metadata": {
    "collapsed": true
   },
   "outputs": [],
   "source": []
  }
 ],
 "metadata": {
  "kernelspec": {
   "display_name": "Python 2",
   "language": "python",
   "name": "python2"
  },
  "language_info": {
   "codemirror_mode": {
    "name": "ipython",
    "version": 2
   },
   "file_extension": ".py",
   "mimetype": "text/x-python",
   "name": "python",
   "nbconvert_exporter": "python",
   "pygments_lexer": "ipython2",
   "version": "2.7.10"
  }
 },
 "nbformat": 4,
 "nbformat_minor": 0
}
