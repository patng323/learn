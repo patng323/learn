{
 "cells": [
  {
   "cell_type": "code",
   "execution_count": 41,
   "metadata": {
    "collapsed": false
   },
   "outputs": [],
   "source": [
    "library(data.table)\n",
    "library(lmtest)\n",
    "library(broom)"
   ]
  },
  {
   "cell_type": "code",
   "execution_count": 53,
   "metadata": {
    "collapsed": false
   },
   "outputs": [],
   "source": [
    "n <- 1000\n",
    "d <- data.table(x=sample(18:39, n, replace=T), edu=sample(1:3, n, replace=T), treat=sample(0:1, n, replace=T))\n",
    "d$edu <- as.factor(d$edu)\n",
    "d <- d[, y:=x*1000 + treat * 5000 + rnorm(n, mean=0, sd=100)]\n",
    "d <- d[, y:=y+(edu==1)*50*treat]\n",
    "d <- d[, y:=y+(edu==2)*250*treat]\n",
    "d <- d[, y:=y+(edu==3)*1000*treat]"
   ]
  },
  {
   "cell_type": "code",
   "execution_count": 54,
   "metadata": {
    "collapsed": false
   },
   "outputs": [],
   "source": [
    "m <- lm(y ~ x + treat + treat:edu, data = d)\n",
    "#summary(m)"
   ]
  },
  {
   "cell_type": "code",
   "execution_count": 55,
   "metadata": {
    "collapsed": false
   },
   "outputs": [
    {
     "data": {
      "text/html": [
       "<table>\n",
       "<thead><tr><th></th><th scope=col>term</th><th scope=col>estimate</th><th scope=col>std.error</th><th scope=col>statistic</th><th scope=col>p.value</th></tr></thead>\n",
       "<tbody>\n",
       "\t<tr><th scope=row>1</th><td>(Intercept)</td><td>-10.82363</td><td>15.39669</td><td>-0.7029841</td><td>0.4822301</td></tr>\n",
       "\t<tr><th scope=row>2</th><td>x</td><td>1000.393</td><td>0.5106388</td><td>1959.101</td><td>0</td></tr>\n",
       "\t<tr><th scope=row>3</th><td>treat</td><td>5048.048</td><td>9.202203</td><td>548.5696</td><td>0</td></tr>\n",
       "\t<tr><th scope=row>4</th><td>treat:edu2</td><td>195.4978</td><td>11.24626</td><td>17.38336</td><td>2.612166e-59</td></tr>\n",
       "\t<tr><th scope=row>5</th><td>treat:edu3</td><td>965.1649</td><td>11.00117</td><td>87.73291</td><td>0</td></tr>\n",
       "</tbody>\n",
       "</table>\n"
      ],
      "text/latex": [
       "\\begin{tabular}{r|lllll}\n",
       "  & term & estimate & std.error & statistic & p.value\\\\\n",
       "\\hline\n",
       "\t1 & (Intercept) & -10.82363 & 15.39669 & -0.7029841 & 0.4822301\\\\\n",
       "\t2 & x & 1000.393 & 0.5106388 & 1959.101 & 0\\\\\n",
       "\t3 & treat & 5048.048 & 9.202203 & 548.5696 & 0\\\\\n",
       "\t4 & treat:edu2 & 195.4978 & 11.24626 & 17.38336 & 2.612166e-59\\\\\n",
       "\t5 & treat:edu3 & 965.1649 & 11.00117 & 87.73291 & 0\\\\\n",
       "\\end{tabular}\n"
      ],
      "text/plain": [
       "          term   estimate  std.error    statistic      p.value\n",
       "1: (Intercept)  -10.82363 15.3966911   -0.7029841 4.822301e-01\n",
       "2:           x 1000.39305  0.5106388 1959.1012567 0.000000e+00\n",
       "3:       treat 5048.04828  9.2022025  548.5695707 0.000000e+00\n",
       "4:  treat:edu2  195.49782 11.2462592   17.3833640 2.612166e-59\n",
       "5:  treat:edu3  965.16489 11.0011723   87.7329129 0.000000e+00"
      ]
     },
     "execution_count": 55,
     "metadata": {},
     "output_type": "execute_result"
    }
   ],
   "source": [
    "coefs <- data.table(tidy(coeftest(m)))\n",
    "coefs"
   ]
  },
  {
   "cell_type": "code",
   "execution_count": 56,
   "metadata": {
    "collapsed": false
   },
   "outputs": [
    {
     "data": {
      "text/html": [
       "5048.04827725874"
      ],
      "text/latex": [
       "5048.04827725874"
      ],
      "text/markdown": [
       "5048.04827725874"
      ],
      "text/plain": [
       "[1] 5048.048"
      ]
     },
     "execution_count": 56,
     "metadata": {},
     "output_type": "execute_result"
    }
   ],
   "source": [
    "# Effect of 'treat' when edu == 1\n",
    "# Should be 5000 + 50\n",
    "baseline <- coefs[3,estimate]\n",
    "baseline"
   ]
  },
  {
   "cell_type": "code",
   "execution_count": 57,
   "metadata": {
    "collapsed": false
   },
   "outputs": [
    {
     "data": {
      "text/html": [
       "5243.54609470088"
      ],
      "text/latex": [
       "5243.54609470088"
      ],
      "text/markdown": [
       "5243.54609470088"
      ],
      "text/plain": [
       "[1] 5243.546"
      ]
     },
     "execution_count": 57,
     "metadata": {},
     "output_type": "execute_result"
    }
   ],
   "source": [
    "# Effect of 'treat' when edu == 2\n",
    "# Should be 5000 + 250\n",
    "\n",
    "# the treat:edu2 coefficients means the effect of treat+edu2 when edu is changed from 1 to 2.\n",
    "coefs[4,estimate] + baseline "
   ]
  },
  {
   "cell_type": "code",
   "execution_count": 58,
   "metadata": {
    "collapsed": false
   },
   "outputs": [
    {
     "data": {
      "text/html": [
       "6013.21317154064"
      ],
      "text/latex": [
       "6013.21317154064"
      ],
      "text/markdown": [
       "6013.21317154064"
      ],
      "text/plain": [
       "[1] 6013.213"
      ]
     },
     "execution_count": 58,
     "metadata": {},
     "output_type": "execute_result"
    }
   ],
   "source": [
    "# Effect of 'treat' when edu == 3\n",
    "# Should be 5000 + 1000\n",
    "coefs[5,estimate] + baseline "
   ]
  },
  {
   "cell_type": "code",
   "execution_count": null,
   "metadata": {
    "collapsed": true
   },
   "outputs": [],
   "source": []
  }
 ],
 "metadata": {
  "kernelspec": {
   "display_name": "R",
   "language": "R",
   "name": "ir"
  },
  "language_info": {
   "codemirror_mode": "r",
   "file_extension": ".r",
   "mimetype": "text/x-r-source",
   "name": "R",
   "pygments_lexer": "r",
   "version": "3.2.3"
  }
 },
 "nbformat": 4,
 "nbformat_minor": 0
}
