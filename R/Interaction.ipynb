{
 "cells": [
  {
   "cell_type": "code",
   "execution_count": 2,
   "metadata": {
    "collapsed": false
   },
   "outputs": [
    {
     "name": "stderr",
     "output_type": "stream",
     "text": [
      "Loading required package: zoo\n",
      "\n",
      "Attaching package: ‘zoo’\n",
      "\n",
      "The following objects are masked from ‘package:base’:\n",
      "\n",
      "    as.Date, as.Date.numeric\n",
      "\n"
     ]
    }
   ],
   "source": [
    "library(data.table)\n",
    "library(lmtest)\n",
    "library(broom)"
   ]
  },
  {
   "cell_type": "code",
   "execution_count": 8,
   "metadata": {
    "collapsed": false
   },
   "outputs": [],
   "source": [
    "n <- 1000\n",
    "d <- data.table(age=sample(18:39, n, replace=T), edu=sample(1:3, n, replace=T), treat=sample(0:1, n, replace=T))\n",
    "d$edu <- as.factor(d$edu)\n",
    "d <- d[, y:=age*1000 + treat * 5000 + rnorm(n, mean=0, sd=100)]\n",
    "d <- d[, y:=y+(edu==1)*50*treat]\n",
    "d <- d[, y:=y+(edu==2)*250*treat]\n",
    "d <- d[, y:=y+(edu==3)*1000*treat]"
   ]
  },
  {
   "cell_type": "code",
   "execution_count": 9,
   "metadata": {
    "collapsed": false
   },
   "outputs": [
    {
     "data": {
      "text/plain": [
       "\n",
       "t test of coefficients:\n",
       "\n",
       "              Estimate Std. Error   t value Pr(>|t|)    \n",
       "(Intercept)   -1.11802   15.56648   -0.0718   0.9428    \n",
       "age         1000.01917    0.51735 1932.9749   <2e-16 ***\n",
       "treat       5049.22623    9.40865  536.6580   <2e-16 ***\n",
       "treat:edu2   210.62010   11.49847   18.3172   <2e-16 ***\n",
       "treat:edu3   948.86964   11.37432   83.4221   <2e-16 ***\n",
       "---\n",
       "Signif. codes:  0 ‘***’ 0.001 ‘**’ 0.01 ‘*’ 0.05 ‘.’ 0.1 ‘ ’ 1\n"
      ]
     },
     "execution_count": 9,
     "metadata": {},
     "output_type": "execute_result"
    }
   ],
   "source": [
    "m <- lm(y ~ age + treat + treat:edu, data = d)\n",
    "coeftest(m)"
   ]
  },
  {
   "cell_type": "code",
   "execution_count": 10,
   "metadata": {
    "collapsed": false
   },
   "outputs": [],
   "source": [
    "coefs <- data.table(tidy(coeftest(m)))\n"
   ]
  },
  {
   "cell_type": "code",
   "execution_count": 11,
   "metadata": {
    "collapsed": false
   },
   "outputs": [
    {
     "data": {
      "text/html": [
       "5049.22623162108"
      ],
      "text/latex": [
       "5049.22623162108"
      ],
      "text/markdown": [
       "5049.22623162108"
      ],
      "text/plain": [
       "[1] 5049.226"
      ]
     },
     "execution_count": 11,
     "metadata": {},
     "output_type": "execute_result"
    }
   ],
   "source": [
    "# Effect of 'treat' when edu == 1\n",
    "# Should be 5000 + 50\n",
    "baseline <- coefs[3,estimate]\n",
    "baseline"
   ]
  },
  {
   "cell_type": "code",
   "execution_count": 12,
   "metadata": {
    "collapsed": false
   },
   "outputs": [
    {
     "data": {
      "text/html": [
       "5259.84633267176"
      ],
      "text/latex": [
       "5259.84633267176"
      ],
      "text/markdown": [
       "5259.84633267176"
      ],
      "text/plain": [
       "[1] 5259.846"
      ]
     },
     "execution_count": 12,
     "metadata": {},
     "output_type": "execute_result"
    }
   ],
   "source": [
    "# Effect of 'treat' when edu == 2\n",
    "# Should be 5000 + 250\n",
    "\n",
    "# the treat:edu2 coefficients means the effect of treat+edu2 when edu is changed from 1 to 2.\n",
    "coefs[4,estimate] + baseline "
   ]
  },
  {
   "cell_type": "code",
   "execution_count": 13,
   "metadata": {
    "collapsed": false
   },
   "outputs": [
    {
     "data": {
      "text/html": [
       "5998.0958757835"
      ],
      "text/latex": [
       "5998.0958757835"
      ],
      "text/markdown": [
       "5998.0958757835"
      ],
      "text/plain": [
       "[1] 5998.096"
      ]
     },
     "execution_count": 13,
     "metadata": {},
     "output_type": "execute_result"
    }
   ],
   "source": [
    "# Effect of 'treat' when edu == 3\n",
    "# Should be 5000 + 1000\n",
    "coefs[5,estimate] + baseline "
   ]
  },
  {
   "cell_type": "markdown",
   "metadata": {},
   "source": [
    "### Try the method of creating one dummy for each factor level"
   ]
  },
  {
   "cell_type": "code",
   "execution_count": 30,
   "metadata": {
    "collapsed": false
   },
   "outputs": [],
   "source": [
    "d<-d[,edu1 := as.integer(edu==\"1\")]\n",
    "d<-d[,edu2 := as.integer(edu==\"2\")]\n",
    "d<-d[,edu3 := as.integer(edu==\"3\")]"
   ]
  },
  {
   "cell_type": "code",
   "execution_count": 31,
   "metadata": {
    "collapsed": false
   },
   "outputs": [],
   "source": [
    "m1 <- lm(y~age + treat:edu1 + treat:edu2 + treat:edu3, data=d)"
   ]
  },
  {
   "cell_type": "code",
   "execution_count": 32,
   "metadata": {
    "collapsed": false
   },
   "outputs": [
    {
     "data": {
      "text/plain": [
       "\n",
       "t test of coefficients:\n",
       "\n",
       "              Estimate Std. Error   t value Pr(>|t|)    \n",
       "(Intercept)   -1.11802   15.56648   -0.0718   0.9428    \n",
       "age         1000.01917    0.51735 1932.9749   <2e-16 ***\n",
       "treat:edu1  5049.22623    9.40865  536.6580   <2e-16 ***\n",
       "treat:edu2  5259.84633    9.29644  565.7914   <2e-16 ***\n",
       "treat:edu3  5998.09588    9.13660  656.4910   <2e-16 ***\n",
       "---\n",
       "Signif. codes:  0 ‘***’ 0.001 ‘**’ 0.01 ‘*’ 0.05 ‘.’ 0.1 ‘ ’ 1\n"
      ]
     },
     "execution_count": 32,
     "metadata": {},
     "output_type": "execute_result"
    }
   ],
   "source": [
    "coeftest(m1)"
   ]
  },
  {
   "cell_type": "markdown",
   "metadata": {
    "collapsed": true
   },
   "source": [
    "### The results are pretty close to the cases where we do lm on subset of data?"
   ]
  },
  {
   "cell_type": "code",
   "execution_count": 14,
   "metadata": {
    "collapsed": false
   },
   "outputs": [
    {
     "data": {
      "text/plain": [
       "\n",
       "t test of coefficients:\n",
       "\n",
       "              Estimate Std. Error  t value Pr(>|t|)    \n",
       "(Intercept)   14.46697   27.39859    0.528   0.5978    \n",
       "age          999.25905    0.90386 1105.548   <2e-16 ***\n",
       "treat       5055.86539   11.10399  455.320   <2e-16 ***\n",
       "---\n",
       "Signif. codes:  0 ‘***’ 0.001 ‘**’ 0.01 ‘*’ 0.05 ‘.’ 0.1 ‘ ’ 1\n"
      ]
     },
     "execution_count": 14,
     "metadata": {},
     "output_type": "execute_result"
    },
    {
     "data": {
      "text/plain": [
       "\n",
       "t test of coefficients:\n",
       "\n",
       "              Estimate Std. Error   t value Pr(>|t|)    \n",
       "(Intercept)    0.56444   27.68411    0.0204   0.9837    \n",
       "age         1000.50809    0.92311 1083.8395   <2e-16 ***\n",
       "treat       5244.16311   11.88100  441.3907   <2e-16 ***\n",
       "---\n",
       "Signif. codes:  0 ‘***’ 0.001 ‘**’ 0.01 ‘*’ 0.05 ‘.’ 0.1 ‘ ’ 1\n"
      ]
     },
     "execution_count": 14,
     "metadata": {},
     "output_type": "execute_result"
    },
    {
     "data": {
      "text/plain": [
       "\n",
       "t test of coefficients:\n",
       "\n",
       "              Estimate Std. Error   t value Pr(>|t|)    \n",
       "(Intercept)  -16.81643   25.78171   -0.6523   0.5147    \n",
       "age         1000.29357    0.86125 1161.4384   <2e-16 ***\n",
       "treat       6006.04464   11.07316  542.3967   <2e-16 ***\n",
       "---\n",
       "Signif. codes:  0 ‘***’ 0.001 ‘**’ 0.01 ‘*’ 0.05 ‘.’ 0.1 ‘ ’ 1\n"
      ]
     },
     "execution_count": 14,
     "metadata": {},
     "output_type": "execute_result"
    }
   ],
   "source": [
    "coeftest(lm(y ~ age + treat, data = d[edu=='1']))\n",
    "coeftest(lm(y ~ age + treat, data = d[edu=='2']))\n",
    "coeftest(lm(y ~ age + treat, data = d[edu=='3']))"
   ]
  },
  {
   "cell_type": "markdown",
   "metadata": {},
   "source": [
    "## Use the multcomp package to calculate the combined effect and SE's of treat with a specific edu level"
   ]
  },
  {
   "cell_type": "code",
   "execution_count": 27,
   "metadata": {
    "collapsed": false
   },
   "outputs": [
    {
     "name": "stderr",
     "output_type": "stream",
     "text": [
      "Loading required package: mvtnorm\n",
      "Loading required package: survival\n",
      "Loading required package: TH.data\n",
      "Loading required package: MASS\n",
      "\n",
      "Attaching package: ‘TH.data’\n",
      "\n",
      "The following object is masked from ‘package:MASS’:\n",
      "\n",
      "    geyser\n",
      "\n"
     ]
    }
   ],
   "source": [
    "library(multcomp)\n",
    "\n",
    "# See https://rpubs.com/djcava/lincom\n"
   ]
  },
  {
   "cell_type": "code",
   "execution_count": 28,
   "metadata": {
    "collapsed": false
   },
   "outputs": [
    {
     "data": {
      "text/html": [
       "<ol class=list-inline>\n",
       "\t<li>'(Intercept)'</li>\n",
       "\t<li>'x'</li>\n",
       "\t<li>'treat'</li>\n",
       "\t<li>'treat:edu2'</li>\n",
       "\t<li>'treat:edu3'</li>\n",
       "</ol>\n"
      ],
      "text/latex": [
       "\\begin{enumerate*}\n",
       "\\item '(Intercept)'\n",
       "\\item 'x'\n",
       "\\item 'treat'\n",
       "\\item 'treat:edu2'\n",
       "\\item 'treat:edu3'\n",
       "\\end{enumerate*}\n"
      ],
      "text/markdown": [
       "1. '(Intercept)'\n",
       "2. 'x'\n",
       "3. 'treat'\n",
       "4. 'treat:edu2'\n",
       "5. 'treat:edu3'\n",
       "\n",
       "\n"
      ],
      "text/plain": [
       "[1] \"(Intercept)\" \"x\"           \"treat\"       \"treat:edu2\"  \"treat:edu3\" "
      ]
     },
     "execution_count": 28,
     "metadata": {},
     "output_type": "execute_result"
    }
   ],
   "source": [
    "names(coef(m))  #Extract the coefficient names (b0,b1,b2,b3)\n"
   ]
  },
  {
   "cell_type": "code",
   "execution_count": 30,
   "metadata": {
    "collapsed": false
   },
   "outputs": [
    {
     "data": {
      "text/plain": [
       "\n",
       "\t Simultaneous Tests for General Linear Hypotheses\n",
       "\n",
       "Fit: lm(formula = y ~ x + treat + treat:edu, data = d)\n",
       "\n",
       "Linear Hypotheses:\n",
       "                        Estimate Std. Error t value Pr(>|t|)    \n",
       "treat + treat:edu2 == 0  5256.42      23.87   220.2   <2e-16 ***\n",
       "---\n",
       "Signif. codes:  0 ‘***’ 0.001 ‘**’ 0.01 ‘*’ 0.05 ‘.’ 0.1 ‘ ’ 1\n",
       "(Adjusted p values reported -- single-step method)\n"
      ]
     },
     "execution_count": 30,
     "metadata": {},
     "output_type": "execute_result"
    }
   ],
   "source": [
    "m.lh <- glht(m, linfct = c(\"treat + treat:edu2 = 0\"))\n",
    "summary(m.lh)\n"
   ]
  },
  {
   "cell_type": "code",
   "execution_count": 31,
   "metadata": {
    "collapsed": false
   },
   "outputs": [
    {
     "data": {
      "text/plain": [
       "\n",
       "\t Simultaneous Confidence Intervals\n",
       "\n",
       "Fit: lm(formula = y ~ x + treat + treat:edu, data = d)\n",
       "\n",
       "Quantile = 1.9853\n",
       "95% family-wise confidence level\n",
       " \n",
       "\n",
       "Linear Hypotheses:\n",
       "                        Estimate  lwr       upr      \n",
       "treat + treat:edu2 == 0 5256.4205 5209.0244 5303.8167\n"
      ]
     },
     "execution_count": 31,
     "metadata": {},
     "output_type": "execute_result"
    }
   ],
   "source": [
    "confint(m.lh)"
   ]
  },
  {
   "cell_type": "code",
   "execution_count": null,
   "metadata": {
    "collapsed": true
   },
   "outputs": [],
   "source": []
  }
 ],
 "metadata": {
  "kernelspec": {
   "display_name": "R",
   "language": "R",
   "name": "ir"
  },
  "language_info": {
   "codemirror_mode": "r",
   "file_extension": ".r",
   "mimetype": "text/x-r-source",
   "name": "R",
   "pygments_lexer": "r",
   "version": "3.2.4"
  }
 },
 "nbformat": 4,
 "nbformat_minor": 0
}
