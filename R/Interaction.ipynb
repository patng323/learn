{
 "cells": [
  {
   "cell_type": "code",
   "execution_count": 1,
   "metadata": {
    "collapsed": false
   },
   "outputs": [
    {
     "name": "stderr",
     "output_type": "stream",
     "text": [
      "Loading required package: zoo\n",
      "\n",
      "Attaching package: ‘zoo’\n",
      "\n",
      "The following objects are masked from ‘package:base’:\n",
      "\n",
      "    as.Date, as.Date.numeric\n",
      "\n"
     ]
    }
   ],
   "source": [
    "library(data.table)\n",
    "library(lmtest)\n",
    "library(broom)"
   ]
  },
  {
   "cell_type": "code",
   "execution_count": 17,
   "metadata": {
    "collapsed": false
   },
   "outputs": [],
   "source": [
    "n <- 100\n",
    "d <- data.table(x=sample(18:39, n, replace=T), edu=sample(1:3, n, replace=T), treat=sample(0:1, n, replace=T))\n",
    "d$edu <- as.factor(d$edu)\n",
    "d <- d[, y:=x*1000 + treat * 5000 + rnorm(n, mean=0, sd=100)]\n",
    "d <- d[, y:=y+(edu==1)*50*treat]\n",
    "d <- d[, y:=y+(edu==2)*250*treat]\n",
    "d <- d[, y:=y+(edu==3)*1000*treat]"
   ]
  },
  {
   "cell_type": "code",
   "execution_count": 26,
   "metadata": {
    "collapsed": false
   },
   "outputs": [
    {
     "data": {
      "text/plain": [
       "\n",
       "t test of coefficients:\n",
       "\n",
       "             Estimate Std. Error  t value  Pr(>|t|)    \n",
       "(Intercept) -115.5171    41.9394  -2.7544  0.007047 ** \n",
       "x           1003.6679     1.4022 715.7829 < 2.2e-16 ***\n",
       "treat       5071.6736    30.0748 168.6352 < 2.2e-16 ***\n",
       "treat:edu2   184.7470    34.1149   5.4154 4.593e-07 ***\n",
       "treat:edu3   910.0683    35.1973  25.8562 < 2.2e-16 ***\n",
       "---\n",
       "Signif. codes:  0 ‘***’ 0.001 ‘**’ 0.01 ‘*’ 0.05 ‘.’ 0.1 ‘ ’ 1\n"
      ]
     },
     "execution_count": 26,
     "metadata": {},
     "output_type": "execute_result"
    }
   ],
   "source": [
    "m <- lm(y ~ x + treat + treat:edu, data = d)\n",
    "coeftest(m)"
   ]
  },
  {
   "cell_type": "code",
   "execution_count": 25,
   "metadata": {
    "collapsed": false
   },
   "outputs": [],
   "source": [
    "coefs <- data.table(tidy(coeftest(m)))\n"
   ]
  },
  {
   "cell_type": "code",
   "execution_count": 20,
   "metadata": {
    "collapsed": false
   },
   "outputs": [
    {
     "data": {
      "text/html": [
       "5071.67358937703"
      ],
      "text/latex": [
       "5071.67358937703"
      ],
      "text/markdown": [
       "5071.67358937703"
      ],
      "text/plain": [
       "[1] 5071.674"
      ]
     },
     "execution_count": 20,
     "metadata": {},
     "output_type": "execute_result"
    }
   ],
   "source": [
    "# Effect of 'treat' when edu == 1\n",
    "# Should be 5000 + 50\n",
    "baseline <- coefs[3,estimate]\n",
    "baseline"
   ]
  },
  {
   "cell_type": "code",
   "execution_count": 21,
   "metadata": {
    "collapsed": false
   },
   "outputs": [
    {
     "data": {
      "text/html": [
       "5256.42054499452"
      ],
      "text/latex": [
       "5256.42054499452"
      ],
      "text/markdown": [
       "5256.42054499452"
      ],
      "text/plain": [
       "[1] 5256.421"
      ]
     },
     "execution_count": 21,
     "metadata": {},
     "output_type": "execute_result"
    }
   ],
   "source": [
    "# Effect of 'treat' when edu == 2\n",
    "# Should be 5000 + 250\n",
    "\n",
    "# the treat:edu2 coefficients means the effect of treat+edu2 when edu is changed from 1 to 2.\n",
    "coefs[4,estimate] + baseline "
   ]
  },
  {
   "cell_type": "code",
   "execution_count": 22,
   "metadata": {
    "collapsed": false
   },
   "outputs": [
    {
     "data": {
      "text/html": [
       "5981.74185843842"
      ],
      "text/latex": [
       "5981.74185843842"
      ],
      "text/markdown": [
       "5981.74185843842"
      ],
      "text/plain": [
       "[1] 5981.742"
      ]
     },
     "execution_count": 22,
     "metadata": {},
     "output_type": "execute_result"
    }
   ],
   "source": [
    "# Effect of 'treat' when edu == 3\n",
    "# Should be 5000 + 1000\n",
    "coefs[5,estimate] + baseline "
   ]
  },
  {
   "cell_type": "markdown",
   "metadata": {
    "collapsed": true
   },
   "source": [
    "### The results are pretty close to the cases where we do lm on subset of data?"
   ]
  },
  {
   "cell_type": "code",
   "execution_count": 24,
   "metadata": {
    "collapsed": false
   },
   "outputs": [
    {
     "data": {
      "text/plain": [
       "\n",
       "t test of coefficients:\n",
       "\n",
       "             Estimate Std. Error  t value Pr(>|t|)    \n",
       "(Intercept) -167.9726    68.0266  -2.4692  0.02104 *  \n",
       "x           1005.1414     2.1693 463.3445  < 2e-16 ***\n",
       "treat       5083.5414    30.8110 164.9912  < 2e-16 ***\n",
       "---\n",
       "Signif. codes:  0 ‘***’ 0.001 ‘**’ 0.01 ‘*’ 0.05 ‘.’ 0.1 ‘ ’ 1\n"
      ]
     },
     "execution_count": 24,
     "metadata": {},
     "output_type": "execute_result"
    },
    {
     "data": {
      "text/plain": [
       "\n",
       "t test of coefficients:\n",
       "\n",
       "             Estimate Std. Error  t value Pr(>|t|)    \n",
       "(Intercept)  -95.8199    72.5525  -1.3207   0.1954    \n",
       "x           1003.5371     2.3297 430.7546   <2e-16 ***\n",
       "treat       5240.6089    27.1466 193.0483   <2e-16 ***\n",
       "---\n",
       "Signif. codes:  0 ‘***’ 0.001 ‘**’ 0.01 ‘*’ 0.05 ‘.’ 0.1 ‘ ’ 1\n"
      ]
     },
     "execution_count": 24,
     "metadata": {},
     "output_type": "execute_result"
    },
    {
     "data": {
      "text/plain": [
       "\n",
       "t test of coefficients:\n",
       "\n",
       "             Estimate Std. Error  t value Pr(>|t|)    \n",
       "(Intercept)  -82.7017    78.4047  -1.0548   0.2992    \n",
       "x           1002.1270     2.8581 350.6241   <2e-16 ***\n",
       "treat       5995.1538    38.1381 157.1959   <2e-16 ***\n",
       "---\n",
       "Signif. codes:  0 ‘***’ 0.001 ‘**’ 0.01 ‘*’ 0.05 ‘.’ 0.1 ‘ ’ 1\n"
      ]
     },
     "execution_count": 24,
     "metadata": {},
     "output_type": "execute_result"
    }
   ],
   "source": [
    "coeftest(lm(y ~ x + treat, data = d[edu=='1']))\n",
    "coeftest(lm(y ~ x + treat, data = d[edu=='2']))\n",
    "coeftest(lm(y ~ x + treat, data = d[edu=='3']))"
   ]
  },
  {
   "cell_type": "markdown",
   "metadata": {},
   "source": [
    "## Use the multcomp package to calculate the combined effect and SE's of treat with a specific edu level"
   ]
  },
  {
   "cell_type": "code",
   "execution_count": 27,
   "metadata": {
    "collapsed": false
   },
   "outputs": [
    {
     "name": "stderr",
     "output_type": "stream",
     "text": [
      "Loading required package: mvtnorm\n",
      "Loading required package: survival\n",
      "Loading required package: TH.data\n",
      "Loading required package: MASS\n",
      "\n",
      "Attaching package: ‘TH.data’\n",
      "\n",
      "The following object is masked from ‘package:MASS’:\n",
      "\n",
      "    geyser\n",
      "\n"
     ]
    }
   ],
   "source": [
    "library(multcomp)\n",
    "\n",
    "# See https://rpubs.com/djcava/lincom\n"
   ]
  },
  {
   "cell_type": "code",
   "execution_count": 28,
   "metadata": {
    "collapsed": false
   },
   "outputs": [
    {
     "data": {
      "text/html": [
       "<ol class=list-inline>\n",
       "\t<li>'(Intercept)'</li>\n",
       "\t<li>'x'</li>\n",
       "\t<li>'treat'</li>\n",
       "\t<li>'treat:edu2'</li>\n",
       "\t<li>'treat:edu3'</li>\n",
       "</ol>\n"
      ],
      "text/latex": [
       "\\begin{enumerate*}\n",
       "\\item '(Intercept)'\n",
       "\\item 'x'\n",
       "\\item 'treat'\n",
       "\\item 'treat:edu2'\n",
       "\\item 'treat:edu3'\n",
       "\\end{enumerate*}\n"
      ],
      "text/markdown": [
       "1. '(Intercept)'\n",
       "2. 'x'\n",
       "3. 'treat'\n",
       "4. 'treat:edu2'\n",
       "5. 'treat:edu3'\n",
       "\n",
       "\n"
      ],
      "text/plain": [
       "[1] \"(Intercept)\" \"x\"           \"treat\"       \"treat:edu2\"  \"treat:edu3\" "
      ]
     },
     "execution_count": 28,
     "metadata": {},
     "output_type": "execute_result"
    }
   ],
   "source": [
    "names(coef(m))  #Extract the coefficient names (b0,b1,b2,b3)\n"
   ]
  },
  {
   "cell_type": "code",
   "execution_count": 30,
   "metadata": {
    "collapsed": false
   },
   "outputs": [
    {
     "data": {
      "text/plain": [
       "\n",
       "\t Simultaneous Tests for General Linear Hypotheses\n",
       "\n",
       "Fit: lm(formula = y ~ x + treat + treat:edu, data = d)\n",
       "\n",
       "Linear Hypotheses:\n",
       "                        Estimate Std. Error t value Pr(>|t|)    \n",
       "treat + treat:edu2 == 0  5256.42      23.87   220.2   <2e-16 ***\n",
       "---\n",
       "Signif. codes:  0 ‘***’ 0.001 ‘**’ 0.01 ‘*’ 0.05 ‘.’ 0.1 ‘ ’ 1\n",
       "(Adjusted p values reported -- single-step method)\n"
      ]
     },
     "execution_count": 30,
     "metadata": {},
     "output_type": "execute_result"
    }
   ],
   "source": [
    "m.lh <- glht(m, linfct = c(\"treat + treat:edu2 = 0\"))\n",
    "summary(m.lh)\n"
   ]
  },
  {
   "cell_type": "code",
   "execution_count": 31,
   "metadata": {
    "collapsed": false
   },
   "outputs": [
    {
     "data": {
      "text/plain": [
       "\n",
       "\t Simultaneous Confidence Intervals\n",
       "\n",
       "Fit: lm(formula = y ~ x + treat + treat:edu, data = d)\n",
       "\n",
       "Quantile = 1.9853\n",
       "95% family-wise confidence level\n",
       " \n",
       "\n",
       "Linear Hypotheses:\n",
       "                        Estimate  lwr       upr      \n",
       "treat + treat:edu2 == 0 5256.4205 5209.0244 5303.8167\n"
      ]
     },
     "execution_count": 31,
     "metadata": {},
     "output_type": "execute_result"
    }
   ],
   "source": [
    "confint(m.lh)"
   ]
  },
  {
   "cell_type": "code",
   "execution_count": null,
   "metadata": {
    "collapsed": true
   },
   "outputs": [],
   "source": []
  }
 ],
 "metadata": {
  "kernelspec": {
   "display_name": "R",
   "language": "R",
   "name": "ir"
  },
  "language_info": {
   "codemirror_mode": "r",
   "file_extension": ".r",
   "mimetype": "text/x-r-source",
   "name": "R",
   "pygments_lexer": "r",
   "version": "3.2.3"
  }
 },
 "nbformat": 4,
 "nbformat_minor": 0
}
