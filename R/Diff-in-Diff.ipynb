{
 "cells": [
  {
   "cell_type": "code",
   "execution_count": 62,
   "metadata": {
    "collapsed": false
   },
   "outputs": [],
   "source": [
    "library(stargazer)\n",
    "library(Hmisc)\n",
    "library(ggplot2)\n",
    "library(sandwich)\n",
    "library(lmtest)\n",
    "library(multcomp)\n",
    "library(data.table)\n",
    "#library(gdata)"
   ]
  },
  {
   "cell_type": "code",
   "execution_count": 97,
   "metadata": {
    "collapsed": true
   },
   "outputs": [],
   "source": [
    "rm(list=ls())\n",
    "set.seed(100)"
   ]
  },
  {
   "cell_type": "code",
   "execution_count": 98,
   "metadata": {
    "collapsed": false
   },
   "outputs": [],
   "source": [
    "n=100 # sample size taken from each state\n",
    "timeEffect=5 # the effect on y due to time change\n",
    "policyEffect=3 # the effect on y due to policy change (in NJ)\n",
    "njBase = 12 # the mean y in NJ in 1998\n",
    "paBase = 10 # the mean y in PA in 1998\n",
    "\n",
    "sd.nj=1 # SD of y in NJ\n",
    "sd.pa=1 # SD of y in PA"
   ]
  },
  {
   "cell_type": "code",
   "execution_count": 99,
   "metadata": {
    "collapsed": true
   },
   "outputs": [],
   "source": [
    "d.nj.98 <- data.table(id=1:n, y=rnorm(n,njBase,sd.nj), yr=98, isNJ=T)\n",
    "d.nj.99 <- data.table(id=1:n, y=rnorm(n,njBase+timeEffect+policyEffect,sd.nj), yr=99, isNJ=T)\n",
    "\n",
    "d.pa.98 <- data.table(id=(n+1):(2*n), y=rnorm(n,paBase,sd.pa), yr=98, isNJ=F)\n",
    "d.pa.99 <- data.table(id=(n+1):(2*n), y=rnorm(n,paBase+timeEffect,sd.pa), yr=99, isNJ=F)"
   ]
  },
  {
   "cell_type": "code",
   "execution_count": 100,
   "metadata": {
    "collapsed": true
   },
   "outputs": [],
   "source": [
    "d <- rbind(d.nj.98, d.nj.99, d.pa.98, d.pa.99)"
   ]
  },
  {
   "cell_type": "code",
   "execution_count": 101,
   "metadata": {
    "collapsed": false
   },
   "outputs": [],
   "source": [
    "dw <- reshape(d, \n",
    "  timevar = \"yr\",\n",
    "  idvar = c(\"id\", \"isNJ\"),\n",
    "  direction = \"wide\")"
   ]
  },
  {
   "cell_type": "code",
   "execution_count": 102,
   "metadata": {
    "collapsed": true
   },
   "outputs": [],
   "source": [
    "dl <- data.table(d)\n",
    "dl$time <- dl$yr == 99"
   ]
  },
  {
   "cell_type": "code",
   "execution_count": 103,
   "metadata": {
    "collapsed": false
   },
   "outputs": [],
   "source": [
    "dw$ch.y <- dw$y.99 - dw$y.98"
   ]
  },
  {
   "cell_type": "code",
   "execution_count": 104,
   "metadata": {
    "collapsed": false
   },
   "outputs": [
    {
     "data": {
      "text/html": [
       "<table>\n",
       "<thead><tr><th></th><th scope=col>id</th><th scope=col>isNJ</th><th scope=col>y.98</th><th scope=col>y.99</th><th scope=col>ch.y</th></tr></thead>\n",
       "<tbody>\n",
       "\t<tr><th scope=row>1</th><td> 1.000000</td><td> 1.000000</td><td>11.497808</td><td>19.667077</td><td> 8.169269</td></tr>\n",
       "\t<tr><th scope=row>2</th><td> 2.000000</td><td> 1.000000</td><td>12.131531</td><td>21.363114</td><td> 9.231583</td></tr>\n",
       "\t<tr><th scope=row>3</th><td> 3.00000</td><td> 1.00000</td><td>11.92108</td><td>19.53085</td><td> 7.60977</td></tr>\n",
       "\t<tr><th scope=row>4</th><td> 4.000000</td><td> 1.000000</td><td>12.886785</td><td>20.842876</td><td> 7.956091</td></tr>\n",
       "\t<tr><th scope=row>5</th><td> 5.000000</td><td> 1.000000</td><td>12.116971</td><td>18.542006</td><td> 6.425035</td></tr>\n",
       "\t<tr><th scope=row>6</th><td> 6.000000</td><td> 1.000000</td><td>12.318630</td><td>19.599694</td><td> 7.281064</td></tr>\n",
       "</tbody>\n",
       "</table>\n"
      ],
      "text/latex": [
       "\\begin{tabular}{r|lllll}\n",
       "  & id & isNJ & y.98 & y.99 & ch.y\\\\\n",
       "\\hline\n",
       "\t1 &  1.000000 &  1.000000 & 11.497808 & 19.667077 &  8.169269\\\\\n",
       "\t2 &  2.000000 &  1.000000 & 12.131531 & 21.363114 &  9.231583\\\\\n",
       "\t3 &  3.00000 &  1.00000 & 11.92108 & 19.53085 &  7.60977\\\\\n",
       "\t4 &  4.000000 &  1.000000 & 12.886785 & 20.842876 &  7.956091\\\\\n",
       "\t5 &  5.000000 &  1.000000 & 12.116971 & 18.542006 &  6.425035\\\\\n",
       "\t6 &  6.000000 &  1.000000 & 12.318630 & 19.599694 &  7.281064\\\\\n",
       "\\end{tabular}\n"
      ],
      "text/plain": [
       "  id isNJ     y.98     y.99     ch.y\n",
       "1  1 TRUE 11.49781 19.66708 8.169269\n",
       "2  2 TRUE 12.13153 21.36311 9.231583\n",
       "3  3 TRUE 11.92108 19.53085 7.609770\n",
       "4  4 TRUE 12.88678 20.84288 7.956091\n",
       "5  5 TRUE 12.11697 18.54201 6.425035\n",
       "6  6 TRUE 12.31863 19.59969 7.281064"
      ]
     },
     "metadata": {},
     "output_type": "display_data"
    }
   ],
   "source": [
    "head(dw)"
   ]
  },
  {
   "cell_type": "code",
   "execution_count": 105,
   "metadata": {
    "collapsed": false
   },
   "outputs": [
    {
     "data": {
      "text/plain": [
       "\n",
       "t test of coefficients:\n",
       "\n",
       "            Estimate Std. Error t value  Pr(>|t|)    \n",
       "(Intercept)  4.90396    0.15894  30.853 < 2.2e-16 ***\n",
       "isNJTRUE     3.10427    0.21073  14.731 < 2.2e-16 ***\n",
       "---\n",
       "Signif. codes:  0 ‘***’ 0.001 ‘**’ 0.01 ‘*’ 0.05 ‘.’ 0.1 ‘ ’ 1\n"
      ]
     },
     "metadata": {},
     "output_type": "display_data"
    }
   ],
   "source": [
    "m1 <- lm(ch.y ~ isNJ, data = dw)\n",
    "coeftest(m1, vcov = vcovHC)"
   ]
  },
  {
   "cell_type": "code",
   "execution_count": 106,
   "metadata": {
    "collapsed": false
   },
   "outputs": [
    {
     "data": {
      "text/plain": [
       "\n",
       "t test of coefficients:\n",
       "\n",
       "                  Estimate Std. Error t value  Pr(>|t|)    \n",
       "(Intercept)       10.01279    0.10445  95.860 < 2.2e-16 ***\n",
       "isNJTRUE           1.99012    0.14640  13.593 < 2.2e-16 ***\n",
       "timeTRUE           4.90396    0.15070  32.541 < 2.2e-16 ***\n",
       "isNJTRUE:timeTRUE  3.10427    0.19909  15.592 < 2.2e-16 ***\n",
       "---\n",
       "Signif. codes:  0 ‘***’ 0.001 ‘**’ 0.01 ‘*’ 0.05 ‘.’ 0.1 ‘ ’ 1\n"
      ]
     },
     "metadata": {},
     "output_type": "display_data"
    }
   ],
   "source": [
    "m2 <- lm(y ~ isNJ + time + isNJ*time, data=dl)\n",
    "coeftest(m2, vcov = vcovHC)"
   ]
  },
  {
   "cell_type": "code",
   "execution_count": null,
   "metadata": {
    "collapsed": true
   },
   "outputs": [],
   "source": []
  }
 ],
 "metadata": {
  "kernelspec": {
   "display_name": "R",
   "language": "R",
   "name": "ir"
  },
  "language_info": {
   "codemirror_mode": "r",
   "file_extension": ".r",
   "mimetype": "text/x-r-source",
   "name": "R",
   "pygments_lexer": "r",
   "version": "3.3.0"
  }
 },
 "nbformat": 4,
 "nbformat_minor": 0
}
