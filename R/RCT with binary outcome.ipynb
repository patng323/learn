{
 "cells": [
  {
   "cell_type": "code",
   "execution_count": 28,
   "metadata": {
    "collapsed": false
   },
   "outputs": [],
   "source": [
    "library(stargazer)\n",
    "library(Hmisc)\n",
    "library(data.table)\n",
    "library(boot)\n",
    "\n",
    "rm(list=ls())\n",
    "set.seed(123)\n"
   ]
  },
  {
   "cell_type": "code",
   "execution_count": 29,
   "metadata": {
    "collapsed": false
   },
   "outputs": [],
   "source": [
    "# Generate experiment data\n",
    "baseProp <- 0.2\n",
    "newProp <- baseProp * 1.2\n",
    "n <- 10000\n",
    "\n",
    "treat = c(rep(0, n/2), rep(1, n/2))\n",
    "y_untreated <- runif(n=n/2, max=1) < baseProp\n",
    "y_treated <- runif(n=n/2, max=1) < newProp\n",
    "y <- c(y_untreated, y_treated)\n",
    "\n",
    "data <- data.table(y, treat)\n",
    "data$treat_f <- as.factor(data$treat)"
   ]
  },
  {
   "cell_type": "code",
   "execution_count": 35,
   "metadata": {
    "collapsed": false
   },
   "outputs": [],
   "source": [
    "# Test the effectd of treat by using logistic regression\n",
    "m1 <- glm(y ~ treat_f, data = data, family = \"binomial\")"
   ]
  },
  {
   "cell_type": "code",
   "execution_count": 36,
   "metadata": {
    "collapsed": false
   },
   "outputs": [
    {
     "data": {
      "text/plain": [
       "\n",
       "Call:\n",
       "glm(formula = y ~ treat_f, family = \"binomial\", data = data)\n",
       "\n",
       "Deviance Residuals: \n",
       "    Min       1Q   Median       3Q      Max  \n",
       "-0.7277  -0.7277  -0.6759  -0.6759   1.7825  \n",
       "\n",
       "Coefficients:\n",
       "            Estimate Std. Error z value Pr(>|z|)    \n",
       "(Intercept) -1.36025    0.03508 -38.773  < 2e-16 ***\n",
       "treat_f1     0.16656    0.04849   3.435 0.000593 ***\n",
       "---\n",
       "Signif. codes:  0 ‘***’ 0.001 ‘**’ 0.01 ‘*’ 0.05 ‘.’ 0.1 ‘ ’ 1\n",
       "\n",
       "(Dispersion parameter for binomial family taken to be 1)\n",
       "\n",
       "    Null deviance: 10498  on 9999  degrees of freedom\n",
       "Residual deviance: 10486  on 9998  degrees of freedom\n",
       "AIC: 10490\n",
       "\n",
       "Number of Fisher Scoring iterations: 4\n"
      ]
     },
     "metadata": {},
     "output_type": "display_data"
    }
   ],
   "source": [
    "summary(m1)"
   ]
  },
  {
   "cell_type": "code",
   "execution_count": 50,
   "metadata": {
    "collapsed": false
   },
   "outputs": [],
   "source": [
    "# Get the predicted logit\n",
    "logit_untreated <- predict.glm(m1, newdata = data[1])[[1]]\n",
    "logit_treated <- predict.glm(m1, newdata = data[nrow(data)])[[1]]"
   ]
  },
  {
   "cell_type": "code",
   "execution_count": 53,
   "metadata": {
    "collapsed": false
   },
   "outputs": [
    {
     "data": {
      "text/html": [
       "<ol class=list-inline>\n",
       "\t<li>0.2</li>\n",
       "\t<li>0.24</li>\n",
       "</ol>\n"
      ],
      "text/latex": [
       "\\begin{enumerate*}\n",
       "\\item 0.2\n",
       "\\item 0.24\n",
       "\\end{enumerate*}\n"
      ],
      "text/markdown": [
       "1. 0.2\n",
       "2. 0.24\n",
       "\n",
       "\n"
      ],
      "text/plain": [
       "[1] 0.20 0.24"
      ]
     },
     "metadata": {},
     "output_type": "display_data"
    },
    {
     "data": {
      "text/html": [
       "<ol class=list-inline>\n",
       "\t<li>0.20420000000006</li>\n",
       "\t<li>0.232600000000394</li>\n",
       "</ol>\n"
      ],
      "text/latex": [
       "\\begin{enumerate*}\n",
       "\\item 0.20420000000006\n",
       "\\item 0.232600000000394\n",
       "\\end{enumerate*}\n"
      ],
      "text/markdown": [
       "1. 0.20420000000006\n",
       "2. 0.232600000000394\n",
       "\n",
       "\n"
      ],
      "text/plain": [
       "[1] 0.2042 0.2326"
      ]
     },
     "metadata": {},
     "output_type": "display_data"
    }
   ],
   "source": [
    "# Get predicted P(y=1) based on treated and untreated\n",
    "c(baseProp, newProp)\n",
    "inv.logit(c(logit_untreated, logit_treated))"
   ]
  },
  {
   "cell_type": "code",
   "execution_count": null,
   "metadata": {
    "collapsed": true
   },
   "outputs": [],
   "source": []
  }
 ],
 "metadata": {
  "kernelspec": {
   "display_name": "R",
   "language": "R",
   "name": "ir"
  },
  "language_info": {
   "codemirror_mode": "r",
   "file_extension": ".r",
   "mimetype": "text/x-r-source",
   "name": "R",
   "pygments_lexer": "r",
   "version": "3.3.0"
  }
 },
 "nbformat": 4,
 "nbformat_minor": 0
}
